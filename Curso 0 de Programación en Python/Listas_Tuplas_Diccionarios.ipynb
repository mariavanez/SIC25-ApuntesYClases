{
  "nbformat": 4,
  "nbformat_minor": 0,
  "metadata": {
    "colab": {
      "provenance": [],
      "authorship_tag": "ABX9TyOLi3dBL59OvB+cSj+eLNGp",
      "include_colab_link": true
    },
    "kernelspec": {
      "name": "python3",
      "display_name": "Python 3"
    },
    "language_info": {
      "name": "python"
    }
  },
  "cells": [
    {
      "cell_type": "markdown",
      "metadata": {
        "id": "view-in-github",
        "colab_type": "text"
      },
      "source": [
        "<a href=\"https://colab.research.google.com/github/mariavanez/SIC25-ApuntesYClases/blob/main/Curso%200%20de%20Programaci%C3%B3n%20en%20Python/Listas_Tuplas_Diccionarios.ipynb\" target=\"_parent\"><img src=\"https://colab.research.google.com/assets/colab-badge.svg\" alt=\"Open In Colab\"/></a>"
      ]
    },
    {
      "cell_type": "markdown",
      "source": [
        "# **1. Diccionarios**"
      ],
      "metadata": {
        "id": "N-M6vvseC0uA"
      }
    },
    {
      "cell_type": "markdown",
      "source": [
        "En Python, un diccionario es una estructura de datos que sirve para almacenar pares clave–valor.\n",
        "\n",
        "Piensa en un diccionario real: buscas una palabra (clave) y obtienes su definición (valor).\n",
        "\n",
        "Un diccionario es como una \"cajita\" que asocia una clave única con un valor, muy útil cuando necesitas buscar datos rápidamente."
      ],
      "metadata": {
        "id": "ws9c7R5LC6A1"
      }
    },
    {
      "cell_type": "code",
      "execution_count": null,
      "metadata": {
        "colab": {
          "base_uri": "https://localhost:8080/"
        },
        "id": "cwbD2VMkB0ql",
        "outputId": "63bb990d-2dbb-4af7-84ce-19daa78a7b7a"
      },
      "outputs": [
        {
          "output_type": "stream",
          "name": "stdout",
          "text": [
            "{'nombre': 'María', 'edad': 25, 'profesion': 'Desarrolladora'}\n"
          ]
        }
      ],
      "source": [
        "mi_diccionario = {\n",
        "    \"nombre\": \"María\",\n",
        "    \"edad\": 25,\n",
        "    \"profesion\": \"Desarrolladora\"\n",
        "}\n",
        "\n",
        "print(mi_diccionario)"
      ]
    },
    {
      "cell_type": "markdown",
      "source": [
        "## FUNCIONES DE DICCIONARIOS"
      ],
      "metadata": {
        "id": "s9-cd2bUDrI7"
      }
    },
    {
      "cell_type": "markdown",
      "source": [
        "### PARA ACCEDER A VALORES"
      ],
      "metadata": {
        "id": "0YvrndlWDvwF"
      }
    },
    {
      "cell_type": "code",
      "source": [
        "print(mi_diccionario[\"nombre\"])\n",
        "print(mi_diccionario[\"edad\"])"
      ],
      "metadata": {
        "colab": {
          "base_uri": "https://localhost:8080/"
        },
        "id": "6w6cjEQyDu_J",
        "outputId": "7a4c8b11-4337-4545-c021-f44b78ffe08e"
      },
      "execution_count": null,
      "outputs": [
        {
          "output_type": "stream",
          "name": "stdout",
          "text": [
            "María\n",
            "25\n"
          ]
        }
      ]
    },
    {
      "cell_type": "markdown",
      "source": [
        "> Si intentas acceder a una clave que no existe → KeyError.\n",
        "\n",
        "Para evitar eso:"
      ],
      "metadata": {
        "id": "a4CwWS8fD7Xl"
      }
    },
    {
      "cell_type": "code",
      "source": [
        "print(mi_diccionario.get(\"pais\", \"No existe\"))"
      ],
      "metadata": {
        "colab": {
          "base_uri": "https://localhost:8080/"
        },
        "id": "OybK0Q3cEAl-",
        "outputId": "10f89c14-5ff0-4f4c-ecbd-ab29fa7b89ba"
      },
      "execution_count": null,
      "outputs": [
        {
          "output_type": "stream",
          "name": "stdout",
          "text": [
            "No existe\n"
          ]
        }
      ]
    },
    {
      "cell_type": "markdown",
      "source": [
        "### PARA MODIFICAR VALORES"
      ],
      "metadata": {
        "id": "zrbkh-qREIAF"
      }
    },
    {
      "cell_type": "code",
      "source": [
        "mi_diccionario[\"edad\"] = 26\n",
        "print(mi_diccionario)"
      ],
      "metadata": {
        "colab": {
          "base_uri": "https://localhost:8080/"
        },
        "id": "WHY9oNHjEOig",
        "outputId": "2d4ac081-a1ab-4777-dd2f-79bba7ea28dd"
      },
      "execution_count": null,
      "outputs": [
        {
          "output_type": "stream",
          "name": "stdout",
          "text": [
            "{'nombre': 'María', 'edad': 26, 'profesion': 'Desarrolladora'}\n"
          ]
        }
      ]
    },
    {
      "cell_type": "markdown",
      "source": [
        "### PARA AGREGAR PARES (CLAVE-VALOR) NUEVOS"
      ],
      "metadata": {
        "id": "AFI7hxLmEdTY"
      }
    },
    {
      "cell_type": "code",
      "source": [
        "mi_diccionario[\"pais\"] = \"Venezuela\"\n",
        "print(mi_diccionario)"
      ],
      "metadata": {
        "colab": {
          "base_uri": "https://localhost:8080/"
        },
        "id": "tTmbVjsqEg31",
        "outputId": "c94b0d66-94a4-4c44-88c8-fee4c78ee364"
      },
      "execution_count": null,
      "outputs": [
        {
          "output_type": "stream",
          "name": "stdout",
          "text": [
            "{'nombre': 'María', 'edad': 26, 'profesion': 'Desarrolladora', 'pais': 'Venezuela'}\n"
          ]
        }
      ]
    },
    {
      "cell_type": "markdown",
      "source": [
        "### PARA ELIMINAR CLAVES"
      ],
      "metadata": {
        "id": "sHUPtzTiElQA"
      }
    },
    {
      "cell_type": "code",
      "source": [
        "del mi_diccionario[\"profesion\"]   # Elimina la clave \"profesion\"\n",
        "mi_diccionario.pop(\"edad\")        # También elimina\n",
        "print(mi_diccionario)"
      ],
      "metadata": {
        "colab": {
          "base_uri": "https://localhost:8080/"
        },
        "id": "9gAqKqkWExpU",
        "outputId": "21df18b8-85ef-45a0-fbeb-b40ad518006b"
      },
      "execution_count": null,
      "outputs": [
        {
          "output_type": "stream",
          "name": "stdout",
          "text": [
            "{'nombre': 'María', 'pais': 'Venezuela'}\n"
          ]
        }
      ]
    },
    {
      "cell_type": "markdown",
      "source": [
        "## RECORRER DICCIONARIOS"
      ],
      "metadata": {
        "id": "uoruizF-E7uK"
      }
    },
    {
      "cell_type": "markdown",
      "source": [
        "### SOLO CLAVES"
      ],
      "metadata": {
        "id": "-8Eugqt2FBaY"
      }
    },
    {
      "cell_type": "code",
      "source": [
        "for clave in mi_diccionario:\n",
        "    print(clave)"
      ],
      "metadata": {
        "colab": {
          "base_uri": "https://localhost:8080/"
        },
        "id": "AH-RlFfiE_91",
        "outputId": "860cd16a-f831-4773-e0b2-f136ce244a90"
      },
      "execution_count": null,
      "outputs": [
        {
          "output_type": "stream",
          "name": "stdout",
          "text": [
            "nombre\n",
            "pais\n"
          ]
        }
      ]
    },
    {
      "cell_type": "markdown",
      "source": [
        "### SOLO VALORES"
      ],
      "metadata": {
        "id": "vkQwtrAsFQDS"
      }
    },
    {
      "cell_type": "code",
      "source": [
        "for valor in mi_diccionario.values():\n",
        "    print(valor)"
      ],
      "metadata": {
        "colab": {
          "base_uri": "https://localhost:8080/"
        },
        "id": "3CLMjjDXFRsJ",
        "outputId": "4f733ec7-e289-46f8-84e4-e4151149a91f"
      },
      "execution_count": null,
      "outputs": [
        {
          "output_type": "stream",
          "name": "stdout",
          "text": [
            "María\n",
            "Venezuela\n"
          ]
        }
      ]
    },
    {
      "cell_type": "markdown",
      "source": [
        "### CLAVES Y VALORES"
      ],
      "metadata": {
        "id": "DnqMgMayFbgf"
      }
    },
    {
      "cell_type": "code",
      "source": [
        "for clave, valor in mi_diccionario.items():\n",
        "    print(clave, '->', valor)"
      ],
      "metadata": {
        "colab": {
          "base_uri": "https://localhost:8080/"
        },
        "id": "hFh8yw7zFd0z",
        "outputId": "5bfdebe1-9dec-438e-c626-76e8b2a679c8"
      },
      "execution_count": null,
      "outputs": [
        {
          "output_type": "stream",
          "name": "stdout",
          "text": [
            "nombre -> María\n",
            "pais -> Venezuela\n"
          ]
        }
      ]
    },
    {
      "cell_type": "markdown",
      "source": [
        "## MÉTODOS ÚTILES"
      ],
      "metadata": {
        "id": "Qwidq2rNFp6s"
      }
    },
    {
      "cell_type": "markdown",
      "source": [
        "- dic.keys() -> todas las claves.\n",
        "- dic.values() -> todos los valores.\n",
        "- dic.items() -> pares (clave, valor).\n",
        "- dic.clear() -> vacía el diccionario."
      ],
      "metadata": {
        "id": "3hvlvAmzFsOp"
      }
    },
    {
      "cell_type": "markdown",
      "source": [
        "\n",
        "\n",
        "---\n",
        "\n"
      ],
      "metadata": {
        "id": "Or_8kmGZ99vs"
      }
    },
    {
      "cell_type": "markdown",
      "source": [
        "# **2. Listas**"
      ],
      "metadata": {
        "id": "raK73-SjI0t7"
      }
    },
    {
      "cell_type": "markdown",
      "source": [
        "En Python, una lista es una estructura de datos que sirve para almacenar varios elementos en un solo lugar, en un orden específico.\n",
        "\n",
        "Las listas son ideales cuando necesitas almacenar y manipular colecciones de datos ordenados."
      ],
      "metadata": {
        "id": "ywhV20yFI4tF"
      }
    },
    {
      "cell_type": "code",
      "source": [
        "mi_lista = [10, 20, 30, 40]\n",
        "nombres = [\"Ana\", \"Luis\", \"María\"]\n",
        "mixta = [1, \"hola\", 3.5, True]\n",
        "\n",
        "# El primer índica siempre se referirá como 0.\n",
        "# Las listas pueden contener cualquier tipo de dato, incluso otras listas."
      ],
      "metadata": {
        "id": "gXIbPrhjI3ef"
      },
      "execution_count": null,
      "outputs": []
    },
    {
      "cell_type": "markdown",
      "source": [
        "## FUNCIONES EN LISTAS"
      ],
      "metadata": {
        "id": "44LMNh3dJbAO"
      }
    },
    {
      "cell_type": "markdown",
      "source": [
        "### PARA ACCEDER A ELEMENTOS"
      ],
      "metadata": {
        "id": "p4yS3CKwJgCf"
      }
    },
    {
      "cell_type": "markdown",
      "source": [
        "> Python usa índices (empezando en 0):"
      ],
      "metadata": {
        "id": "pwMwaY9HJlfM"
      }
    },
    {
      "cell_type": "code",
      "source": [
        "print(nombres[0])\n",
        "print(nombres[2])"
      ],
      "metadata": {
        "colab": {
          "base_uri": "https://localhost:8080/"
        },
        "id": "VtPCbXoQJTdE",
        "outputId": "5f199c90-ba23-49d0-d05e-e95eb29136ee"
      },
      "execution_count": null,
      "outputs": [
        {
          "output_type": "stream",
          "name": "stdout",
          "text": [
            "Ana\n",
            "María\n"
          ]
        }
      ]
    },
    {
      "cell_type": "markdown",
      "source": [
        "> También se puede usar índices negativos:"
      ],
      "metadata": {
        "id": "4PLw7zZmJvxh"
      }
    },
    {
      "cell_type": "code",
      "source": [
        "print(nombres[-1])  # María (último)\n",
        "print(nombres[-2])  # Luis (penúltimo)"
      ],
      "metadata": {
        "colab": {
          "base_uri": "https://localhost:8080/"
        },
        "id": "RP-eGwyEJwx_",
        "outputId": "0a7c1ee7-3083-4db8-bf79-e551f4d78713"
      },
      "execution_count": null,
      "outputs": [
        {
          "output_type": "stream",
          "name": "stdout",
          "text": [
            "María\n",
            "Luis\n"
          ]
        }
      ]
    },
    {
      "cell_type": "markdown",
      "source": [
        "### MODIFICAR ELEMENTOS"
      ],
      "metadata": {
        "id": "jOQ0wsnJJ1lx"
      }
    },
    {
      "cell_type": "code",
      "source": [
        "mi_lista[1] = 25\n",
        "print(mi_lista)"
      ],
      "metadata": {
        "colab": {
          "base_uri": "https://localhost:8080/"
        },
        "id": "z4EV4b7OJ5kp",
        "outputId": "2e3ea393-3141-4d8a-ca04-a9cbd5a9e998"
      },
      "execution_count": null,
      "outputs": [
        {
          "output_type": "stream",
          "name": "stdout",
          "text": [
            "[10, 25, 30, 40]\n"
          ]
        }
      ]
    },
    {
      "cell_type": "markdown",
      "source": [
        "### AGREGAR ELEMENTOS"
      ],
      "metadata": {
        "id": "wyQHtK57J3w7"
      }
    },
    {
      "cell_type": "code",
      "source": [
        "mi_lista.append(50)        # Agregar al final\n",
        "mi_lista.insert(3, 30)     # Insertar en posición 3\n",
        "print(mi_lista)"
      ],
      "metadata": {
        "colab": {
          "base_uri": "https://localhost:8080/"
        },
        "id": "rbWqOeGmKSGN",
        "outputId": "10d9e184-71af-4349-deb5-909b57ab8c4d"
      },
      "execution_count": null,
      "outputs": [
        {
          "output_type": "stream",
          "name": "stdout",
          "text": [
            "[15, 40, 50, 30, 50]\n"
          ]
        }
      ]
    },
    {
      "cell_type": "markdown",
      "source": [
        "### ELIMINAR ELEMENTOS"
      ],
      "metadata": {
        "id": "ZdqsV8qxKa-u"
      }
    },
    {
      "cell_type": "code",
      "source": [
        "mi_lista.pop(2)       # Elimina por índice (posición 2)\n",
        "del mi_lista[0]       # Elimina el primer elemento\n",
        "\n",
        "print(mi_lista)"
      ],
      "metadata": {
        "colab": {
          "base_uri": "https://localhost:8080/"
        },
        "id": "rU_J7vpeKdX5",
        "outputId": "e07080c0-0652-4ace-81a2-ebf7a2a16914"
      },
      "execution_count": null,
      "outputs": [
        {
          "output_type": "stream",
          "name": "stdout",
          "text": [
            "[40, 30, 50]\n"
          ]
        }
      ]
    },
    {
      "cell_type": "markdown",
      "source": [
        "## RECORRER LISTAS"
      ],
      "metadata": {
        "id": "M_PWTUuRLInZ"
      }
    },
    {
      "cell_type": "code",
      "source": [
        "for nombre in nombres:\n",
        "    print(nombre)"
      ],
      "metadata": {
        "colab": {
          "base_uri": "https://localhost:8080/"
        },
        "id": "S7K1uEAiLLBK",
        "outputId": "1aa30ec3-4ea1-480d-f58b-4f3f21bcdec9"
      },
      "execution_count": null,
      "outputs": [
        {
          "output_type": "stream",
          "name": "stdout",
          "text": [
            "Ana\n",
            "Luis\n",
            "María\n"
          ]
        }
      ]
    },
    {
      "cell_type": "markdown",
      "source": [
        "## SLICING (SUBLISTAS)"
      ],
      "metadata": {
        "id": "umT808tXLVUe"
      }
    },
    {
      "cell_type": "code",
      "source": [
        "print(mi_lista[1:3])   # Elementos desde índice 1 hasta 2\n",
        "print(mi_lista[:2])    # Desde el inicio hasta el índice 1\n",
        "print(mi_lista[2:])    # Desde el índice 2 hasta el final\n",
        "print(mi_lista[::-1])  # Lista invertida"
      ],
      "metadata": {
        "colab": {
          "base_uri": "https://localhost:8080/"
        },
        "id": "bECW7pYsLYru",
        "outputId": "a9004a5d-2dea-4747-be13-1702fa85496d"
      },
      "execution_count": null,
      "outputs": [
        {
          "output_type": "stream",
          "name": "stdout",
          "text": [
            "[30, 50]\n",
            "[40, 30]\n",
            "[50]\n",
            "[50, 30, 40]\n"
          ]
        }
      ]
    },
    {
      "cell_type": "markdown",
      "source": [
        "## MÉTODOS ÚTILES DE LISTAS"
      ],
      "metadata": {
        "id": "kxIMlAXrLisB"
      }
    },
    {
      "cell_type": "markdown",
      "source": [
        "- append(x) → agrega un elemento al final.\n",
        "\n",
        "- insert(i, x) → agrega en una posición específica.\n",
        "\n",
        "- remove(x) → elimina un valor.\n",
        "\n",
        "- pop(i) → elimina por índice y lo devuelve.\n",
        "\n",
        "- sort() → ordena la lista.\n",
        "\n",
        "- reverse() → invierte el orden.\n",
        "\n",
        "- count(x) → cuenta cuántas veces aparece un valor.\n",
        "\n",
        "- len(lista) → cantidad de elementos."
      ],
      "metadata": {
        "id": "UYecF7qhLlQx"
      }
    },
    {
      "cell_type": "markdown",
      "source": [
        "## OPERADOR IN"
      ],
      "metadata": {
        "id": "m1COre3vBJdS"
      }
    },
    {
      "cell_type": "markdown",
      "source": [
        "El operador **in** devuelve True o False. Si se encuentra el valor en una lista, devuelve True, y sino, devuelve False (el operador **not in** devuelve todo lo contrario)"
      ],
      "metadata": {
        "id": "P9urkzDABPlE"
      }
    },
    {
      "cell_type": "code",
      "source": [
        "a_lista = [10, 20, 30, 40]\n",
        "\n",
        "print(10 in a_lista)\n",
        "print(50 in a_lista)\n",
        "print(50 not in a_lista)"
      ],
      "metadata": {
        "colab": {
          "base_uri": "https://localhost:8080/"
        },
        "id": "W17o7zMhBkMD",
        "outputId": "ee1718a5-fb39-448f-fb02-ba33cf1d041b"
      },
      "execution_count": 5,
      "outputs": [
        {
          "output_type": "stream",
          "name": "stdout",
          "text": [
            "True\n",
            "False\n",
            "True\n"
          ]
        }
      ]
    },
    {
      "cell_type": "code",
      "source": [
        "# Ejercicio con el operador in en una condicional\n",
        "\n",
        "n_lista = [11, 22, 33, 44, 55, 66]\n",
        "\n",
        "if (55 in n_lista):\n",
        "  n_lista.remove(55)\n",
        "if (88 in n_lista):\n",
        "  n_lista.remove(88)\n",
        "\n",
        "print(n_lista)"
      ],
      "metadata": {
        "colab": {
          "base_uri": "https://localhost:8080/"
        },
        "id": "BpPIOjvuBu0S",
        "outputId": "83c3c46f-4961-4c2d-c5be-f192e5f8ef6e"
      },
      "execution_count": 6,
      "outputs": [
        {
          "output_type": "stream",
          "name": "stdout",
          "text": [
            "[11, 22, 33, 44, 66]\n"
          ]
        }
      ]
    },
    {
      "cell_type": "markdown",
      "source": [
        "\n",
        "\n",
        "---\n",
        "\n"
      ],
      "metadata": {
        "id": "fWwU2U1xClKd"
      }
    },
    {
      "cell_type": "markdown",
      "source": [
        "# **3. Tuplas**"
      ],
      "metadata": {
        "id": "FMt_D5C6CmGn"
      }
    },
    {
      "cell_type": "markdown",
      "source": [
        "Las tuplas en Python son muy parecidas a las listas, pero con una diferencia clave: **son inmutables**.\n",
        "\n",
        "Eso significa que, una vez creadas, **no se pueden modificar** (ni agregar, ni eliminar, ni cambiar elementos).\n",
        "\n",
        "> **¿Cuándo usar tuplas?**\n",
        "- Cuando los datos no deben cambiar.\n",
        "- Cuando quieres más seguridad e inmutabilidad.\n",
        "- Cuando se necesitan como claves de diccionario o elementos de un set (las listas no pueden ser usadas allí porque son mutables)."
      ],
      "metadata": {
        "id": "a0vKzxHuCtv3"
      }
    },
    {
      "cell_type": "code",
      "source": [
        "mi_tupla = (10, 20, 30, 40)\n",
        "nombres = (\"Ana\", \"Luis\", \"María\")\n",
        "mixta = (1, \"hola\", 3.5, True)\n",
        "\n",
        "# También se pueden crear sin paréntesis, usando solo comas:\n",
        "mi_tupla2 = 1, 2, 3\n",
        "\n",
        "# Si es una tupla de un solo elemento, necesitas una coma:\n",
        "mi_tupla3 = (5,)"
      ],
      "metadata": {
        "id": "_c7oHVm5CtLX"
      },
      "execution_count": 12,
      "outputs": []
    },
    {
      "cell_type": "markdown",
      "source": [
        "## FUNCIONES EN TUPLAS"
      ],
      "metadata": {
        "id": "5yzDp79SDUxw"
      }
    },
    {
      "cell_type": "markdown",
      "source": [
        "### ACCEDER A ELEMENTOS EN TUPLAS"
      ],
      "metadata": {
        "id": "BHmMDlotDndL"
      }
    },
    {
      "cell_type": "code",
      "source": [
        "# Al igual que en las listas, con índices:\n",
        "\n",
        "print(nombres[0])\n",
        "print(nombres[-1])"
      ],
      "metadata": {
        "colab": {
          "base_uri": "https://localhost:8080/"
        },
        "id": "YPZ2Syz1DrGM",
        "outputId": "5f40014a-5e12-42f3-8657-c7adf8b5ce92"
      },
      "execution_count": 11,
      "outputs": [
        {
          "output_type": "stream",
          "name": "stdout",
          "text": [
            "Ana\n",
            "María\n"
          ]
        }
      ]
    },
    {
      "cell_type": "markdown",
      "source": [
        "### NO SE PUEDEN MODIFICAR"
      ],
      "metadata": {
        "id": "mN_9UG36D0lK"
      }
    },
    {
      "cell_type": "code",
      "source": [
        "mi_tupla = (1, 2, 3)\n",
        "mi_tupla[0] = 10 # No se puede modificar"
      ],
      "metadata": {
        "colab": {
          "base_uri": "https://localhost:8080/",
          "height": 161
        },
        "id": "VDH214VVD2zF",
        "outputId": "9a36317b-1e2a-4d37-b4e4-596f6e5f909d"
      },
      "execution_count": 10,
      "outputs": [
        {
          "output_type": "error",
          "ename": "TypeError",
          "evalue": "'tuple' object does not support item assignment",
          "traceback": [
            "\u001b[0;31m---------------------------------------------------------------------------\u001b[0m",
            "\u001b[0;31mTypeError\u001b[0m                                 Traceback (most recent call last)",
            "\u001b[0;32m/tmp/ipython-input-1794311502.py\u001b[0m in \u001b[0;36m<cell line: 0>\u001b[0;34m()\u001b[0m\n\u001b[1;32m      1\u001b[0m \u001b[0mmi_tupla\u001b[0m \u001b[0;34m=\u001b[0m \u001b[0;34m(\u001b[0m\u001b[0;36m1\u001b[0m\u001b[0;34m,\u001b[0m \u001b[0;36m2\u001b[0m\u001b[0;34m,\u001b[0m \u001b[0;36m3\u001b[0m\u001b[0;34m)\u001b[0m\u001b[0;34m\u001b[0m\u001b[0;34m\u001b[0m\u001b[0m\n\u001b[0;32m----> 2\u001b[0;31m \u001b[0mmi_tupla\u001b[0m\u001b[0;34m[\u001b[0m\u001b[0;36m0\u001b[0m\u001b[0;34m]\u001b[0m \u001b[0;34m=\u001b[0m \u001b[0;36m10\u001b[0m\u001b[0;34m\u001b[0m\u001b[0;34m\u001b[0m\u001b[0m\n\u001b[0m",
            "\u001b[0;31mTypeError\u001b[0m: 'tuple' object does not support item assignment"
          ]
        }
      ]
    },
    {
      "cell_type": "markdown",
      "source": [
        "## RECORRER TUPLAS"
      ],
      "metadata": {
        "id": "B9AkH3wgEMHS"
      }
    },
    {
      "cell_type": "code",
      "source": [
        "for valor in mi_tupla:\n",
        "    print(valor)"
      ],
      "metadata": {
        "colab": {
          "base_uri": "https://localhost:8080/"
        },
        "id": "X4vIPs2nEIyG",
        "outputId": "16299ea0-90f6-42c2-ed83-1bb0c6838d76"
      },
      "execution_count": 13,
      "outputs": [
        {
          "output_type": "stream",
          "name": "stdout",
          "text": [
            "10\n",
            "20\n",
            "30\n",
            "40\n"
          ]
        }
      ]
    },
    {
      "cell_type": "markdown",
      "source": [
        "## OPERACIONES CON TUPLAS"
      ],
      "metadata": {
        "id": "53exsjF2Eab0"
      }
    },
    {
      "cell_type": "code",
      "source": [
        "# CONCATENAR\n",
        "\n",
        "t1 = (1, 2)\n",
        "t2 = (3, 4)\n",
        "t3 = t1 + t2\n",
        "print(t3)"
      ],
      "metadata": {
        "colab": {
          "base_uri": "https://localhost:8080/"
        },
        "id": "zOAX7S4REcRz",
        "outputId": "70d5e09c-5e79-4a2b-acd4-37fba7ac8275"
      },
      "execution_count": 14,
      "outputs": [
        {
          "output_type": "stream",
          "name": "stdout",
          "text": [
            "(1, 2, 3, 4)\n"
          ]
        }
      ]
    },
    {
      "cell_type": "code",
      "source": [
        "# REPETIR\n",
        "\n",
        "t = (1, 2) * 3\n",
        "print(t)"
      ],
      "metadata": {
        "colab": {
          "base_uri": "https://localhost:8080/"
        },
        "id": "_QBw32uWEjvM",
        "outputId": "0ab12134-054d-4498-f442-af88c81c6e31"
      },
      "execution_count": 15,
      "outputs": [
        {
          "output_type": "stream",
          "name": "stdout",
          "text": [
            "(1, 2, 1, 2, 1, 2)\n"
          ]
        }
      ]
    },
    {
      "cell_type": "code",
      "source": [
        "# PERTENENCIA\n",
        "\n",
        "print(3 in (1, 2, 3))"
      ],
      "metadata": {
        "colab": {
          "base_uri": "https://localhost:8080/"
        },
        "id": "UHXaCbNFEnpe",
        "outputId": "0156046b-aac7-4627-b975-38cf6e63d446"
      },
      "execution_count": 16,
      "outputs": [
        {
          "output_type": "stream",
          "name": "stdout",
          "text": [
            "True\n"
          ]
        }
      ]
    },
    {
      "cell_type": "markdown",
      "source": [
        "## MÉTODOS EN TUPLAS"
      ],
      "metadata": {
        "id": "-HC94oJMEvtN"
      }
    },
    {
      "cell_type": "markdown",
      "source": [
        "Las tuplas tienen pocos métodos (porque son inmutables):\n",
        "\n",
        "- count(x) → cuántas veces aparece un valor.\n",
        "\n",
        "- index(x) → en qué posición está el valor."
      ],
      "metadata": {
        "id": "gOnqbXLDEzSy"
      }
    },
    {
      "cell_type": "code",
      "source": [
        "t = (10, 20, 10, 30)\n",
        "print(t.count(10))\n",
        "print(t.index(30))"
      ],
      "metadata": {
        "colab": {
          "base_uri": "https://localhost:8080/"
        },
        "id": "cyQdq0e-E20T",
        "outputId": "21b4a9e5-b1ae-49ef-ce2f-1e40e1079c23"
      },
      "execution_count": 17,
      "outputs": [
        {
          "output_type": "stream",
          "name": "stdout",
          "text": [
            "2\n",
            "3\n"
          ]
        }
      ]
    }
  ]
}