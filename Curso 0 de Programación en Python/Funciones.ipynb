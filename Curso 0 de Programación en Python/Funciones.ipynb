{
  "nbformat": 4,
  "nbformat_minor": 0,
  "metadata": {
    "colab": {
      "provenance": [],
      "authorship_tag": "ABX9TyM0FCJVXJNp7gfZyT268X5M",
      "include_colab_link": true
    },
    "kernelspec": {
      "name": "python3",
      "display_name": "Python 3"
    },
    "language_info": {
      "name": "python"
    }
  },
  "cells": [
    {
      "cell_type": "markdown",
      "metadata": {
        "id": "view-in-github",
        "colab_type": "text"
      },
      "source": [
        "<a href=\"https://colab.research.google.com/github/mariavanez/SIC25-ApuntesYClases/blob/main/Curso%200%20de%20Programaci%C3%B3n%20en%20Python/Funciones.ipynb\" target=\"_parent\"><img src=\"https://colab.research.google.com/assets/colab-badge.svg\" alt=\"Open In Colab\"/></a>"
      ]
    },
    {
      "cell_type": "markdown",
      "source": [
        "# **1. FUNCIONES EN PYTHON**"
      ],
      "metadata": {
        "id": "hhNiKuzRt_rd"
      }
    },
    {
      "cell_type": "markdown",
      "source": [
        "Una función es un bloque de código reutilizable que realiza una tarea específica.\n",
        "La idea es: en lugar de repetir código muchas veces, lo pones dentro de una función y lo llamas cuando lo necesites.\n",
        "\n",
        "En Python, las funciones se definen con la palabra clave **def**."
      ],
      "metadata": {
        "id": "im3Mfg2auEYn"
      }
    },
    {
      "cell_type": "code",
      "execution_count": 2,
      "metadata": {
        "id": "KZA_GHqpt16j"
      },
      "outputs": [],
      "source": [
        "def nombre_funcion(parametros):\n",
        "    # bloque de código\n",
        "    return resultado"
      ]
    },
    {
      "cell_type": "markdown",
      "source": [
        "- def → indica que vas a definir una función.\n",
        "- nombre_funcion → identificador de la función (como una variable).\n",
        "- (parámetros) → valores que la función puede recibir (opcionales).\n",
        "- return → devuelve un resultado (opcional). Si no lo pones, la función devuelve None."
      ],
      "metadata": {
        "id": "BEhd-G9Mumtf"
      }
    },
    {
      "cell_type": "markdown",
      "source": [
        "\n",
        "\n",
        "---\n",
        "\n"
      ],
      "metadata": {
        "id": "e1UO1hbevsLB"
      }
    },
    {
      "cell_type": "markdown",
      "source": [
        "## **Función sin Parámetros o Retorno**"
      ],
      "metadata": {
        "id": "1y8S2lEvvErq"
      }
    },
    {
      "cell_type": "code",
      "source": [
        "def saludar():\n",
        "    print(\"¡Hola! Bienvenido a Python\")\n",
        "\n",
        "saludar()"
      ],
      "metadata": {
        "colab": {
          "base_uri": "https://localhost:8080/"
        },
        "id": "eswHbL61u8Yg",
        "outputId": "dc4d832f-81aa-450d-9826-d91ed3193c33"
      },
      "execution_count": 4,
      "outputs": [
        {
          "output_type": "stream",
          "name": "stdout",
          "text": [
            "¡Hola! Bienvenido a Python\n"
          ]
        }
      ]
    },
    {
      "cell_type": "code",
      "source": [
        "def print_star():\n",
        "  print('*' * 10)\n",
        "\n",
        "print_star()\n",
        "print_star()"
      ],
      "metadata": {
        "colab": {
          "base_uri": "https://localhost:8080/"
        },
        "id": "I7TrdGzivZKM",
        "outputId": "4aa38c8b-c96e-43d0-ec04-ad729f3c0965"
      },
      "execution_count": 6,
      "outputs": [
        {
          "output_type": "stream",
          "name": "stdout",
          "text": [
            "**********\n",
            "**********\n"
          ]
        }
      ]
    },
    {
      "cell_type": "markdown",
      "source": [
        "\n",
        "\n",
        "---\n",
        "\n"
      ],
      "metadata": {
        "id": "yBJZNXFWvtdR"
      }
    },
    {
      "cell_type": "markdown",
      "source": [
        "## **Función con Parámetros**"
      ],
      "metadata": {
        "id": "3tVVzl4zvxHJ"
      }
    },
    {
      "cell_type": "code",
      "source": [
        "def saludar_persona(nombre): # En el parámetro tenemos la función\n",
        "    print(f\"Hola, {nombre}!\") # Usa la variable nombre como entrada.\n",
        "\n",
        "saludar_persona(\"María\")\n",
        "saludar_persona(\"Pedro\")"
      ],
      "metadata": {
        "colab": {
          "base_uri": "https://localhost:8080/"
        },
        "id": "bo17hE-XwCl_",
        "outputId": "6a890ba6-9711-4004-c813-5258c8fa08eb"
      },
      "execution_count": 7,
      "outputs": [
        {
          "output_type": "stream",
          "name": "stdout",
          "text": [
            "Hola, María!\n",
            "Hola, Pedro!\n"
          ]
        }
      ]
    },
    {
      "cell_type": "code",
      "source": [
        "def print_star(n): # El parámetro es la variable n\n",
        "  for _ in range(n): # El parámetro determina el rango\n",
        "    print('*' * 10)\n",
        "\n",
        "print_star(5) # Enviamos un parámetro de 5\n",
        "print('-' * 15)\n",
        "print_star(3) # Enviamos un parámetro de 3"
      ],
      "metadata": {
        "colab": {
          "base_uri": "https://localhost:8080/"
        },
        "id": "wuLBHpW6wrgv",
        "outputId": "e80f6e5e-5caf-4a2b-d067-778530ba14d4"
      },
      "execution_count": 9,
      "outputs": [
        {
          "output_type": "stream",
          "name": "stdout",
          "text": [
            "**********\n",
            "**********\n",
            "**********\n",
            "**********\n",
            "**********\n",
            "---------------\n",
            "**********\n",
            "**********\n",
            "**********\n"
          ]
        }
      ]
    },
    {
      "cell_type": "markdown",
      "source": [
        "\n",
        "\n",
        "---\n",
        "\n"
      ],
      "metadata": {
        "id": "vssyF7kyxWS5"
      }
    },
    {
      "cell_type": "markdown",
      "source": [
        "## **Función con Retorno**"
      ],
      "metadata": {
        "id": "Knr8YqSJyYPl"
      }
    },
    {
      "cell_type": "code",
      "source": [
        "# Un solo retorno\n",
        "\n",
        "def sumar(a, b):\n",
        "    return a + b # Aquí la función devuelve un valor.\n",
        "\n",
        "resultado = sumar(5, 3)\n",
        "print(resultado)"
      ],
      "metadata": {
        "colab": {
          "base_uri": "https://localhost:8080/"
        },
        "id": "TjOqw7iqydQg",
        "outputId": "8e8d09f3-bae5-4da5-ca48-19eb68ed03bd"
      },
      "execution_count": 12,
      "outputs": [
        {
          "output_type": "stream",
          "name": "stdout",
          "text": [
            "8\n"
          ]
        }
      ]
    },
    {
      "cell_type": "code",
      "source": [
        "# Múltiples retornos\n",
        "\n",
        "def operaciones(a, b):\n",
        "    suma = a + b\n",
        "    resta = a - b\n",
        "    return suma, resta # Devuelve una tupla con dos resultados.\n",
        "\n",
        "resultado = operaciones(10, 5)\n",
        "print(resultado)\n",
        "print(resultado[0])\n",
        "print(resultado[1])"
      ],
      "metadata": {
        "colab": {
          "base_uri": "https://localhost:8080/"
        },
        "id": "PlhEXYxyzFSX",
        "outputId": "785497e9-d564-475a-e09a-7c674ffd08d1"
      },
      "execution_count": 13,
      "outputs": [
        {
          "output_type": "stream",
          "name": "stdout",
          "text": [
            "(15, 5)\n",
            "15\n",
            "5\n"
          ]
        }
      ]
    },
    {
      "cell_type": "markdown",
      "source": [
        "\n",
        "\n",
        "---\n",
        "\n"
      ],
      "metadata": {
        "id": "geDqd1gIyubj"
      }
    },
    {
      "cell_type": "markdown",
      "source": [
        "## **Tipos de Parámetros en Funciones**"
      ],
      "metadata": {
        "id": "UkxdS4Fjyx0r"
      }
    },
    {
      "cell_type": "markdown",
      "source": [
        "- Posicionales: se pasan en orden.\n",
        "\n",
        "- Por nombre (keyword arguments): se pasan con el nombre de la variable.\n",
        "\n",
        "- Valores por defecto: si no das un valor, toma el predeterminado.\n",
        "\n",
        "- Arbitrarios (*args, **kwargs):\n",
        "\n",
        "- - *args → varios argumentos en forma de tupla.\n",
        "- - **kwargs → varios argumentos con nombre en forma de diccionario."
      ],
      "metadata": {
        "id": "-vHFy-3x7ibX"
      }
    },
    {
      "cell_type": "markdown",
      "source": [
        "\n",
        "\n",
        "---\n",
        "\n"
      ],
      "metadata": {
        "id": "NBKRJcTK72y2"
      }
    },
    {
      "cell_type": "markdown",
      "source": [
        "### **Parámetros Posicionales**"
      ],
      "metadata": {
        "id": "QiHz4_Hpy0ba"
      }
    },
    {
      "cell_type": "markdown",
      "source": [
        "> Los argumentos se pasan en el mismo orden en que se definieron."
      ],
      "metadata": {
        "id": "Ch-B-Cjezl6C"
      }
    },
    {
      "cell_type": "code",
      "source": [
        "def resta(a, b):\n",
        "    return a - b\n",
        "\n",
        "print(resta(10, 5))\n",
        "print(resta(5, 10))"
      ],
      "metadata": {
        "colab": {
          "base_uri": "https://localhost:8080/"
        },
        "id": "uhgVTJDDzobM",
        "outputId": "7915bdff-230c-47c6-bf74-b1c9857c25f2"
      },
      "execution_count": 14,
      "outputs": [
        {
          "output_type": "stream",
          "name": "stdout",
          "text": [
            "5\n",
            "-5\n"
          ]
        }
      ]
    },
    {
      "cell_type": "markdown",
      "source": [
        "> Aquí importa el **orden** en que pasas los valores."
      ],
      "metadata": {
        "id": "2mZekmiJztgV"
      }
    },
    {
      "cell_type": "markdown",
      "source": [
        "\n",
        "\n",
        "---\n",
        "\n"
      ],
      "metadata": {
        "id": "dPUfV8oM3dfP"
      }
    },
    {
      "cell_type": "markdown",
      "source": [
        "### **Parámetros con Nombre**"
      ],
      "metadata": {
        "id": "E3Sv1teu3eZi"
      }
    },
    {
      "cell_type": "markdown",
      "source": [
        "> Se pasan indicando el **nombre del parámetro**, no importa el orden."
      ],
      "metadata": {
        "id": "vm1EheH83l_s"
      }
    },
    {
      "cell_type": "code",
      "source": [
        "def resta(a, b):\n",
        "    return a - b\n",
        "\n",
        "print(resta(a=10, b=5))\n",
        "print(resta(b=5, a=10))"
      ],
      "metadata": {
        "id": "HTiBSbLC3q1S"
      },
      "execution_count": null,
      "outputs": []
    },
    {
      "cell_type": "markdown",
      "source": [
        "> Más legible y evitas errores de orden."
      ],
      "metadata": {
        "id": "HEhJkRVm3o52"
      }
    },
    {
      "cell_type": "markdown",
      "source": [
        "\n",
        "\n",
        "---\n",
        "\n"
      ],
      "metadata": {
        "id": "gzuQGLlu331Q"
      }
    },
    {
      "cell_type": "markdown",
      "source": [
        "### **Parámetros con Valores por Defecto**"
      ],
      "metadata": {
        "id": "FYb2Jflp35MZ"
      }
    },
    {
      "cell_type": "markdown",
      "source": [
        "> Si no pasas un argumento, usa el valor dado en la definición."
      ],
      "metadata": {
        "id": "sp9GL90o4Di8"
      }
    },
    {
      "cell_type": "code",
      "source": [
        "def saludar(nombre=\"amigo\"):\n",
        "    print(f\"Hola, {nombre}!\")\n",
        "\n",
        "saludar()\n",
        "saludar(\"María\")"
      ],
      "metadata": {
        "colab": {
          "base_uri": "https://localhost:8080/"
        },
        "id": "qpwWvua734m1",
        "outputId": "3f3b7096-ffb8-4587-a5d6-b4b13de67355"
      },
      "execution_count": 15,
      "outputs": [
        {
          "output_type": "stream",
          "name": "stdout",
          "text": [
            "Hola, amigo!\n",
            "Hola, María!\n"
          ]
        }
      ]
    },
    {
      "cell_type": "markdown",
      "source": [
        "> Útil para dar valores opcionales."
      ],
      "metadata": {
        "id": "m0NBRl-T4LEF"
      }
    },
    {
      "cell_type": "markdown",
      "source": [
        "\n",
        "\n",
        "---\n",
        "\n"
      ],
      "metadata": {
        "id": "Gt_PlG8E4Npg"
      }
    },
    {
      "cell_type": "markdown",
      "source": [
        "### **Parámetros Arbitrarios**"
      ],
      "metadata": {
        "id": "cHzXJg0Q4PFH"
      }
    },
    {
      "cell_type": "markdown",
      "source": [
        "> Permiten pasar **cantidad variable** de argumentos posicionales (se guardan como **tupla**)."
      ],
      "metadata": {
        "id": "mBrms6VD4XaY"
      }
    },
    {
      "cell_type": "code",
      "source": [
        "def suma(*args):\n",
        "    return sum(args)\n",
        "\n",
        "print(suma(1, 2, 3))\n",
        "print(suma(5, 10, 15, 20))"
      ],
      "metadata": {
        "colab": {
          "base_uri": "https://localhost:8080/"
        },
        "id": "uppq7AnI4hX9",
        "outputId": "e2598cc0-35d9-4130-bffe-c6cfb91301f4"
      },
      "execution_count": 16,
      "outputs": [
        {
          "output_type": "stream",
          "name": "stdout",
          "text": [
            "6\n",
            "50\n"
          ]
        }
      ]
    },
    {
      "cell_type": "markdown",
      "source": [
        "> Útil cuando no sabes cuántos argumentos recibirás."
      ],
      "metadata": {
        "id": "fTV6Vxhz4sL8"
      }
    },
    {
      "cell_type": "markdown",
      "source": [
        "\n",
        "\n",
        "---\n",
        "\n"
      ],
      "metadata": {
        "id": "dxXCYgxn4x8V"
      }
    },
    {
      "cell_type": "markdown",
      "source": [
        "### **Parámetros Arbitrarios con Nombres** (**kwargs)"
      ],
      "metadata": {
        "id": "LdF7cSfy40yv"
      }
    },
    {
      "cell_type": "markdown",
      "source": [
        "> Permiten pasar c**antidad variable** de argumentos con **nombre** (se guardan como **diccionario**)."
      ],
      "metadata": {
        "id": "ipGzFBQH5qDr"
      }
    },
    {
      "cell_type": "code",
      "source": [
        "def mostrar_info(**kwargs):\n",
        "    for clave, valor in kwargs.items():\n",
        "        print(f\"{clave}: {valor}\")\n",
        "\n",
        "mostrar_info(nombre=\"Ana\", edad=25, ciudad=\"Caracas\")"
      ],
      "metadata": {
        "colab": {
          "base_uri": "https://localhost:8080/"
        },
        "id": "_vp6W-wS5m54",
        "outputId": "8199e8ce-b6a7-4a2d-93ca-ae379582d2a7"
      },
      "execution_count": 17,
      "outputs": [
        {
          "output_type": "stream",
          "name": "stdout",
          "text": [
            "nombre: Ana\n",
            "edad: 25\n",
            "ciudad: Caracas\n"
          ]
        }
      ]
    },
    {
      "cell_type": "markdown",
      "source": [
        "> Útil para funciones flexibles con muchas opciones."
      ],
      "metadata": {
        "id": "YTZFGQOA57Eq"
      }
    },
    {
      "cell_type": "markdown",
      "source": [
        "\n",
        "\n",
        "---\n",
        "\n"
      ],
      "metadata": {
        "id": "BuDxGmoC6E3-"
      }
    },
    {
      "cell_type": "markdown",
      "source": [
        "### **Combinación de Todos los Tipos**"
      ],
      "metadata": {
        "id": "RmDLoDXv6Fyq"
      }
    },
    {
      "cell_type": "markdown",
      "source": [
        "El orden correcto es:\n",
        "\n",
        "> posicionales → *args → parámetros por defecto → **kwargs"
      ],
      "metadata": {
        "id": "0oOP24wl6Jz7"
      }
    },
    {
      "cell_type": "code",
      "source": [
        "def ejemplo(a, b, *args, c=10, **kwargs):\n",
        "    print(\"a:\", a)\n",
        "    print(\"b:\", b)\n",
        "    print(\"args:\", args)\n",
        "    print(\"c:\", c)\n",
        "    print(\"kwargs:\", kwargs)\n",
        "\n",
        "ejemplo(1, 2, 3, 4, 5, c=20, x=100, y=200)\n"
      ],
      "metadata": {
        "colab": {
          "base_uri": "https://localhost:8080/"
        },
        "id": "jm3T3dve6Soy",
        "outputId": "71be2862-5be7-482a-8632-0b4b42287a39"
      },
      "execution_count": 18,
      "outputs": [
        {
          "output_type": "stream",
          "name": "stdout",
          "text": [
            "a: 1\n",
            "b: 2\n",
            "args: (3, 4, 5)\n",
            "c: 20\n",
            "kwargs: {'x': 100, 'y': 200}\n"
          ]
        }
      ]
    },
    {
      "cell_type": "markdown",
      "source": [
        "\n",
        "\n",
        "---\n",
        "\n"
      ],
      "metadata": {
        "id": "paYVoGnz6Q3f"
      }
    }
  ]
}