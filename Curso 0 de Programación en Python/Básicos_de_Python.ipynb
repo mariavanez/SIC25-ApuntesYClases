{
  "nbformat": 4,
  "nbformat_minor": 0,
  "metadata": {
    "colab": {
      "provenance": [],
      "collapsed_sections": [
        "6y04kD64r9jK",
        "eiewzn7Jzvg1",
        "vy5smh4K1CU0",
        "O5amETG01b0-",
        "s8xiSJqj3cu3"
      ],
      "authorship_tag": "ABX9TyO4jYu1tTa05/LCY5+qp6uW",
      "include_colab_link": true
    },
    "kernelspec": {
      "name": "python3",
      "display_name": "Python 3"
    },
    "language_info": {
      "name": "python"
    }
  },
  "cells": [
    {
      "cell_type": "markdown",
      "metadata": {
        "id": "view-in-github",
        "colab_type": "text"
      },
      "source": [
        "<a href=\"https://colab.research.google.com/github/mariavanez/SIC25-ApuntesYClases/blob/main/Curso%200%20de%20Programaci%C3%B3n%20en%20Python/B%C3%A1sicos_de_Python.ipynb\" target=\"_parent\"><img src=\"https://colab.research.google.com/assets/colab-badge.svg\" alt=\"Open In Colab\"/></a>"
      ]
    },
    {
      "cell_type": "markdown",
      "source": [
        "#**1. FUNCIÓN PRINT()**"
      ],
      "metadata": {
        "id": "6y04kD64r9jK"
      }
    },
    {
      "cell_type": "markdown",
      "source": [
        "##1. print() con strings"
      ],
      "metadata": {
        "id": "eiewzn7Jzvg1"
      }
    },
    {
      "cell_type": "markdown",
      "source": [
        "1. print() es un comando que genera valores dentro de () y se imprime en consola."
      ],
      "metadata": {
        "id": "DeFEmI0yo-ff"
      }
    },
    {
      "cell_type": "code",
      "execution_count": null,
      "metadata": {
        "colab": {
          "base_uri": "https://localhost:8080/"
        },
        "id": "H8kP3RWSoLxk",
        "outputId": "1b634abc-c4c6-42ef-aed1-8e2d1b5fc2ee"
      },
      "outputs": [
        {
          "output_type": "stream",
          "name": "stdout",
          "text": [
            "Hello World!\n"
          ]
        }
      ],
      "source": [
        "print(\"Hello World!\")"
      ]
    },
    {
      "cell_type": "markdown",
      "source": [
        "2. Para imprimir un String utilizando la función print(), debe encerrar ambos lados del String en comillas (\"\" o '')"
      ],
      "metadata": {
        "id": "eBbeSH4gozGz"
      }
    },
    {
      "cell_type": "code",
      "source": [
        "print('Hello World!')\n",
        "print('Hello World!')"
      ],
      "metadata": {
        "colab": {
          "base_uri": "https://localhost:8080/"
        },
        "id": "KCttjC9mpkB-",
        "outputId": "dd997ea1-ee48-4b8b-9d2b-b3e8f2a673b9"
      },
      "execution_count": null,
      "outputs": [
        {
          "output_type": "stream",
          "name": "stdout",
          "text": [
            "Hello World!\n",
            "Hello World!\n"
          ]
        }
      ]
    },
    {
      "cell_type": "markdown",
      "source": [
        "3. Usando \"\\n\" (secuencia de escape) se genera un salto de línea en medio de una oración en los Strings"
      ],
      "metadata": {
        "id": "4IeOXnhjqlWU"
      }
    },
    {
      "cell_type": "code",
      "source": [
        "print(\"Hola\\nMundo\")"
      ],
      "metadata": {
        "colab": {
          "base_uri": "https://localhost:8080/"
        },
        "id": "IakOz6aoogk4",
        "outputId": "37cc5075-73e6-402c-d8df-51ecedb446c7"
      },
      "execution_count": null,
      "outputs": [
        {
          "output_type": "stream",
          "name": "stdout",
          "text": [
            "Hola\n",
            "Mundo\n"
          ]
        }
      ]
    },
    {
      "cell_type": "markdown",
      "source": [
        "4. En la función print(), el principio y fin de una cadena se pueden agrupar con tres comillas dobles (\"\"\") o simples ('''). Esto mostrará la cadena agrupada incluyendo saltos de línea"
      ],
      "metadata": {
        "id": "Ng94B5qdrBQZ"
      }
    },
    {
      "cell_type": "code",
      "source": [
        "print('''Hola\n",
        "      Mundo''')\n",
        "print('''Hola\n",
        "Mundo''')"
      ],
      "metadata": {
        "colab": {
          "base_uri": "https://localhost:8080/"
        },
        "id": "fPaU6f6OrWoy",
        "outputId": "19ba0bd8-114b-411e-bd79-415310774806"
      },
      "execution_count": null,
      "outputs": [
        {
          "output_type": "stream",
          "name": "stdout",
          "text": [
            "Hola\n",
            "      Mundo\n",
            "Hola\n",
            "Mundo\n"
          ]
        }
      ]
    },
    {
      "cell_type": "markdown",
      "source": [
        "5. Sin embargo, si se coloca una barra invertida (\"\\\\\\\") al final de una cadena agrupada en tres comillas, la línea no se dividirá y la siguiente línea se conectará a la misma línea."
      ],
      "metadata": {
        "id": "caSyMUXRrlL7"
      }
    },
    {
      "cell_type": "code",
      "source": [
        "print('''Hello\\\n",
        "World!''')"
      ],
      "metadata": {
        "colab": {
          "base_uri": "https://localhost:8080/"
        },
        "id": "meH5Nrcsr0eF",
        "outputId": "a533cda4-27a7-4728-ea6a-1a6754c451a9"
      },
      "execution_count": null,
      "outputs": [
        {
          "output_type": "stream",
          "name": "stdout",
          "text": [
            "HelloWorld!\n"
          ]
        }
      ]
    },
    {
      "cell_type": "markdown",
      "source": [
        "##2. print() con valores numéricos int"
      ],
      "metadata": {
        "id": "vy5smh4K1CU0"
      }
    },
    {
      "cell_type": "markdown",
      "source": [
        "1. Para imprimir valores numéricos, basta con escribir en los () los números sin comillas"
      ],
      "metadata": {
        "id": "VmQx31diqD2_"
      }
    },
    {
      "cell_type": "code",
      "source": [
        "print(1)\n",
        "print(16)\n",
        "print(16, 4, 2004)"
      ],
      "metadata": {
        "colab": {
          "base_uri": "https://localhost:8080/"
        },
        "id": "0sC6XdsuqLfp",
        "outputId": "517af204-923e-4e10-83bb-d30a025cedb9"
      },
      "execution_count": null,
      "outputs": [
        {
          "output_type": "stream",
          "name": "stdout",
          "text": [
            "1\n",
            "16\n",
            "16 4 2004\n"
          ]
        }
      ]
    },
    {
      "cell_type": "markdown",
      "source": [
        "2. También se pueden hacer operaciones aritméticas con la función print()"
      ],
      "metadata": {
        "id": "x2S2OXf8qb30"
      }
    },
    {
      "cell_type": "code",
      "source": [
        "print(16 + 4 + 2004)"
      ],
      "metadata": {
        "colab": {
          "base_uri": "https://localhost:8080/"
        },
        "id": "szRDV3WcoUOW",
        "outputId": "11dff890-93f3-438e-d026-abb6c2bd7dd3"
      },
      "execution_count": null,
      "outputs": [
        {
          "output_type": "stream",
          "name": "stdout",
          "text": [
            "2024\n"
          ]
        }
      ]
    },
    {
      "cell_type": "markdown",
      "source": [
        "##3. print() con operadores suma(+), multiplicación(*) y coma(,)"
      ],
      "metadata": {
        "id": "O5amETG01b0-"
      }
    },
    {
      "cell_type": "markdown",
      "source": [
        "1. Al usar una coma (,) en medio de dos valores, se forma un espacio entre dos ellos, permitiendo combinar así Strings (texto) con Int (números enteros)"
      ],
      "metadata": {
        "id": "emgqwKT7xmUX"
      }
    },
    {
      "cell_type": "code",
      "source": [
        "print(\"Hola\", 123)\n",
        "print(\"Hola,\", \"amigo\")"
      ],
      "metadata": {
        "colab": {
          "base_uri": "https://localhost:8080/"
        },
        "id": "6uzsh1CVycQm",
        "outputId": "8c58443a-dca9-4688-990b-54d4c8638779"
      },
      "execution_count": null,
      "outputs": [
        {
          "output_type": "stream",
          "name": "stdout",
          "text": [
            "Hola 123\n",
            "Hola, amigo\n"
          ]
        }
      ]
    },
    {
      "cell_type": "markdown",
      "source": [
        "2. El operador de suma (+) al usarse en un String, puede concatenar dos o más textos"
      ],
      "metadata": {
        "id": "mSnLtkBiy2dJ"
      }
    },
    {
      "cell_type": "code",
      "source": [
        "print(\"Hola\" + \"Mundo\")\n",
        "print(\"Hola,\" + \" amigo. \" + \"Tiempo de no verte.\")"
      ],
      "metadata": {
        "colab": {
          "base_uri": "https://localhost:8080/"
        },
        "id": "NOM79u5jzBOD",
        "outputId": "2df6bc60-cfab-4a77-eee0-19b700c074ac"
      },
      "execution_count": null,
      "outputs": [
        {
          "output_type": "stream",
          "name": "stdout",
          "text": [
            "HolaMundo\n",
            "Hola, amigo. Tiempo de no verte.\n"
          ]
        }
      ]
    },
    {
      "cell_type": "markdown",
      "source": [
        "3. Cuando se usa el operador de suma (+) en medio de dos valores numéricos, se imprime el resultado"
      ],
      "metadata": {
        "id": "CslSPrN_zGi0"
      }
    },
    {
      "cell_type": "code",
      "source": [
        "print(30 + 10)"
      ],
      "metadata": {
        "colab": {
          "base_uri": "https://localhost:8080/"
        },
        "id": "v-A23DOxzSrF",
        "outputId": "83477e37-ec75-4d8f-85e0-084a69abc383"
      },
      "execution_count": null,
      "outputs": [
        {
          "output_type": "stream",
          "name": "stdout",
          "text": [
            "40\n"
          ]
        }
      ]
    },
    {
      "cell_type": "markdown",
      "source": [
        "4. Cuando se usa el operador de multiplicación para combinar un string con un entero positivo, la cadena se repite tantas veces como el número, sin espacios"
      ],
      "metadata": {
        "id": "BbwrdT7H2n7-"
      }
    },
    {
      "cell_type": "code",
      "source": [
        "print(\"Hello\" * 3)"
      ],
      "metadata": {
        "colab": {
          "base_uri": "https://localhost:8080/"
        },
        "id": "EZH9TCyN22dN",
        "outputId": "249160c6-962a-4e07-fa10-6cafcbb6bf6c"
      },
      "execution_count": null,
      "outputs": [
        {
          "output_type": "stream",
          "name": "stdout",
          "text": [
            "HelloHelloHello\n"
          ]
        }
      ]
    },
    {
      "cell_type": "markdown",
      "source": [
        "5. Si se combina el operador de multiplicación (*) con dos números enteros, se muestra el resultado de la operación"
      ],
      "metadata": {
        "id": "45xjNkHZ3ALH"
      }
    },
    {
      "cell_type": "code",
      "source": [
        "print(2 * 4)"
      ],
      "metadata": {
        "colab": {
          "base_uri": "https://localhost:8080/"
        },
        "id": "Mwgugj2r25ad",
        "outputId": "7b5104d2-ec9c-42af-9067-8b9a0ca3ea52"
      },
      "execution_count": null,
      "outputs": [
        {
          "output_type": "stream",
          "name": "stdout",
          "text": [
            "8\n"
          ]
        }
      ]
    },
    {
      "cell_type": "markdown",
      "source": [
        "##4. Parámetros de fin y división"
      ],
      "metadata": {
        "id": "s8xiSJqj3cu3"
      }
    },
    {
      "cell_type": "markdown",
      "source": [
        "1. Cuando un programa encuentra una función print(), se produce un salto de línea. Sin embargo, si se especifica una cadena al final al final de la instrucción print(), se imprime la cadena en lugar del salto de línea."
      ],
      "metadata": {
        "id": "YvTDybuf3wKa"
      }
    },
    {
      "cell_type": "code",
      "source": [
        "print('Hello', end = ' ')\n",
        "print('World!')\n",
        "\n",
        "print('Hello', end = ', ')\n",
        "print(\"World!\")"
      ],
      "metadata": {
        "colab": {
          "base_uri": "https://localhost:8080/"
        },
        "id": "JfTnfF-e3g-H",
        "outputId": "cbfe2ae6-0675-42c7-c430-31654fa27c76"
      },
      "execution_count": null,
      "outputs": [
        {
          "output_type": "stream",
          "name": "stdout",
          "text": [
            "Hello World!\n",
            "Hello, World!\n"
          ]
        }
      ]
    },
    {
      "cell_type": "markdown",
      "source": [
        "2. El operador de coma (,) produce un espacio en medio de dos valores. Sin embargo, si se especifica con un parámetro \"sep\", se puede intercambiar ese espacio por un valor nuevo especificado"
      ],
      "metadata": {
        "id": "c-L6Hh6V4-PW"
      }
    },
    {
      "cell_type": "code",
      "source": [
        "print(\"Hola\", \"mundo\", sep = '')\n",
        "print(\"Hello\", \"World\", sep = ',')\n",
        "print(\"Holis\", \"cariño\", sep = ' 123 ')"
      ],
      "metadata": {
        "colab": {
          "base_uri": "https://localhost:8080/"
        },
        "id": "s_04QDHc5NDw",
        "outputId": "b1980f86-c41f-479c-bb45-ec4be270e5b5"
      },
      "execution_count": null,
      "outputs": [
        {
          "output_type": "stream",
          "name": "stdout",
          "text": [
            "Holamundo\n",
            "Hello,World\n",
            "Holis 123 cariño\n"
          ]
        }
      ]
    },
    {
      "cell_type": "markdown",
      "source": [
        "##5. Práctica \\#1: Creación de Currículum"
      ],
      "metadata": {
        "id": "HqfXn9gD6A47"
      }
    },
    {
      "cell_type": "code",
      "source": [
        "print('Hello! I will introduce myself.')\n",
        "print('******************************************************************')\n",
        "print('Name: María Añez\\nJob:Web Developer')\n",
        "print('Age:', 2025 - 2004)\n",
        "print('******************************************************************')\n",
        "print('Adress:', end = ' ')\n",
        "print('Barrio 12 de Octubre')\n",
        "print('Place of Birth: Maracaibo', 'Venezuela', sep = ', ')"
      ],
      "metadata": {
        "colab": {
          "base_uri": "https://localhost:8080/"
        },
        "id": "YlMSDSF46LjT",
        "outputId": "9ee5e54c-62c9-4330-b7c0-1fd620cc2eb6"
      },
      "execution_count": null,
      "outputs": [
        {
          "output_type": "stream",
          "name": "stdout",
          "text": [
            "Hello! I will introduce myself.\n",
            "******************************************************************\n",
            "Name: María Añez\n",
            "Job:Web Developer\n",
            "Age: 21\n",
            "******************************************************************\n",
            "Adress: Barrio 12 de Octubre\n",
            "Place of Birth: Maracaibo, Venezuela\n"
          ]
        }
      ]
    },
    {
      "cell_type": "markdown",
      "source": [
        "#**2. FUNCIÓN INPUT()**"
      ],
      "metadata": {
        "id": "SBzGQ1Qy8hIi"
      }
    },
    {
      "cell_type": "markdown",
      "source": [
        "1. El nombre del usuario se almacena en la variable nombre."
      ],
      "metadata": {
        "id": "O0hJDEDJ87D3"
      }
    },
    {
      "cell_type": "code",
      "source": [
        "nombre = input(\"Escriba su nombre: \")\n",
        "print(\"Hola,\", nombre)\n",
        "\n",
        "#PRUEBA CON IF (for fun jiji)\n",
        "genero = input(\"Ingrese su género: \")\n",
        "mujer = \"mujer\"\n",
        "hombre = \"hombre\"\n",
        "\n",
        "if(genero == mujer) :\n",
        "    print(\"Bienvenida al mundo de la programación,\", nombre)\n",
        "else :\n",
        "    print(\"Bienvenido al mundo de la programación,\", nombre)"
      ],
      "metadata": {
        "colab": {
          "base_uri": "https://localhost:8080/"
        },
        "id": "YJjvEypN8lfa",
        "outputId": "f9f68c03-16df-41fe-ce31-3940b9b395e2"
      },
      "execution_count": null,
      "outputs": [
        {
          "output_type": "stream",
          "name": "stdout",
          "text": [
            "Escriba su nombre: María\n",
            "Hola, María\n",
            "Ingrese su género: Femenino\n",
            "Bienvenido al mundo de la programación, María\n"
          ]
        }
      ]
    },
    {
      "cell_type": "markdown",
      "source": [
        "2. Para introducir números enteros y usar valores artiméticos, debemos encerrar en la función int() una función input(), porque input() por defecto solo retorna strings (cadena de texto)."
      ],
      "metadata": {
        "id": "3dGFb6Ls_7ug"
      }
    },
    {
      "cell_type": "code",
      "source": [
        "x = int(input(\"Ingresa el primer número entero: \"))\n",
        "y = int(input(\"Ingresa el segundo número entero: \"))\n",
        "z = x + y\n",
        "print(\"La suma de\", x, \"y\", y, \"da como resultado:\", z)"
      ],
      "metadata": {
        "colab": {
          "base_uri": "https://localhost:8080/"
        },
        "id": "OaHz9uc5AVyD",
        "outputId": "9aaa5e3b-a7bb-40f8-93aa-11bbfeeab186"
      },
      "execution_count": null,
      "outputs": [
        {
          "output_type": "stream",
          "name": "stdout",
          "text": [
            "Ingresa el primer número entero: 16\n",
            "Ingresa el segundo número entero: 24\n",
            "La suma de 16 y 24 da como resultado: 40\n"
          ]
        }
      ]
    },
    {
      "cell_type": "markdown",
      "source": [
        "#**3. Python Keywords (no usar en varibales)**"
      ],
      "metadata": {
        "id": "ZK309SNFQ3hR"
      }
    },
    {
      "cell_type": "markdown",
      "source": [
        "- if\n",
        "- for\n",
        "- lambda\n",
        "- continue\n",
        "- True\n",
        "- def\n",
        "- from\n",
        "- while\n",
        "- nonlocal\n",
        "- and\n",
        "- del\n",
        "- global\n",
        "- not\n",
        "- with\n",
        "- as\n",
        "- elif\n",
        "- try\n",
        "- try\n",
        "- or\n",
        "- except\n",
        "- in\n",
        "- raise"
      ],
      "metadata": {
        "id": "gzgYc6-_REbA"
      }
    },
    {
      "cell_type": "markdown",
      "source": [
        "#**4. Operadores en Python**"
      ],
      "metadata": {
        "id": "hq7GcNeUZcco"
      }
    },
    {
      "cell_type": "markdown",
      "source": [
        "- **Operador:  +**\n",
        "  - Significado: adición\n",
        "  - suma el operando izquierdo y el operando derecho\n",
        "\n",
        "- **Operador: -**\n",
        "  - Significado: sustracción\n",
        "  - Restar el operando derecho del operando izquierdo.\n",
        "\n",
        "- **Operador: \\***\n",
        "  - Significado: multiplicación\n",
        "  - Multiplica el operando derecho por el operando izquierdo.\n",
        "\n",
        "- **Operandor: /**\n",
        "  - Significado: división\n",
        "  - Dividir el operando izquierdo entre el operando derecho. La división en Python básicamente devuelve el valor del número real.\n",
        "\n",
        "- **Operador: //**\n",
        "  - Significado: división entera (cociente)\n",
        "  - A diferencia de /, el resultado de la división se usa para descartar el punto decimal o menos y obtener solo la parte entera.\n",
        "\n",
        "- **Operador: %**\n",
        "  - Significado: resto\n",
        "  - Se lee como operador de módulo y no tiene nada que ver con el porcentaje que significa proporción. Encuentra el resto de la división.\n",
        "\n",
        "- **Operador: \\****\n",
        "  - Significado: potencia\n",
        "  - Elevar el operando izquierdo al operando derecho. En el caso de **0.5, se realiza una operación de raíz cuadrada."
      ],
      "metadata": {
        "id": "x5th_5XXZkuB"
      }
    },
    {
      "cell_type": "markdown",
      "source": [
        "#**5. Tipos de datos básicos en Python**"
      ],
      "metadata": {
        "id": "CmbgHFGWeRsi"
      }
    },
    {
      "cell_type": "markdown",
      "source": [
        "\n",
        "1. **Número:**\n",
        "  - int: números enteros (ejemplo: 10, 200).\n",
        "  - float: números irracionales/decimales (ejemplo: 3.14)\n",
        "  - complex: números complejos + irracionales (ejemplo: 4 + 3j)\n",
        "\n",
        "2. **Booleano:**\n",
        "  - True: cuando un dato es verdadero\n",
        "  - False: cuando un dato es falso\n",
        "\n",
        "3. **String:**\n",
        "  - str: cadenas de texto (ejemplo: \"hello\", \"100\").\n",
        "\n",
        "4. **Lista:**\n",
        "  - [10, 20, 30]\n",
        "\n",
        "5. **Tupla:**\n",
        "  - (10, 20, 30)\n",
        "\n",
        "6. **Diccionario:**\n",
        "  - {\"name\": \"David\", \"age\": 23, \"height\": 56.5}"
      ],
      "metadata": {
        "id": "zqoejH97cd0x"
      }
    },
    {
      "cell_type": "markdown",
      "source": [
        "# **6. Precedencia de los operadores**\n",
        "\n"
      ],
      "metadata": {
        "id": "AZ8aYXTTfDFZ"
      }
    },
    {
      "cell_type": "markdown",
      "source": [
        "- Si los operadores de suma y multiplicación están en una misma línea de código, la multiplicación se ejecuta primero.\n",
        "- Cuando hay paréntesis en una línea de código, los paréntesis se ejecutan primero.\n",
        "- Los resultados del cálculo en la operación varían según el orden de procesameinto de los operadores.\n",
        "\n",
        "1. () (paréntesis)\n",
        "2. ** (potencia)\n",
        "3. ~, +, - (operador monádico)\n",
        "4. *, /, %, // (multiplicación, división, resto y cociente)\n",
        "5. +, - (suma, resta)\n",
        "6. \\>>, << (operador de desplazamiento de bits)\n",
        "7. & (operador AND a nivel de bits)\n",
        "8. ^, | (operador XOR bita bit, operador OR bit a bit)\n",
        "9. <=,  \\<, >, >= (operadores de comparación)\n",
        "10. ==, != (operador de igual, operador de diferencia)\n",
        "11. =, %=, /=, //=, -=, +=, *=, **= (operador de asignación y operadores de asignación compuesta)\n",
        "12. is, is not (operador de identidad)\n",
        "13. not, or, and (operador logico)"
      ],
      "metadata": {
        "id": "Fh_S_OETfM5E"
      }
    },
    {
      "cell_type": "markdown",
      "source": [
        "#**7. Conversión de datos en Python**"
      ],
      "metadata": {
        "id": "VbMfblFAhdc_"
      }
    },
    {
      "cell_type": "markdown",
      "source": [
        "> Para convertir un tipo de dato a otro, se puede hacer lo siguiente:"
      ],
      "metadata": {
        "id": "JDudoyh09eOu"
      }
    },
    {
      "cell_type": "code",
      "source": [
        "int('10')/2 # No da errores porque hemos convertido una cadena a número entero."
      ],
      "metadata": {
        "colab": {
          "base_uri": "https://localhost:8080/"
        },
        "id": "ICyc7eG28sWR",
        "outputId": "3ba790b1-ed93-4d63-bdb7-6556044f3108"
      },
      "execution_count": null,
      "outputs": [
        {
          "output_type": "execute_result",
          "data": {
            "text/plain": [
              "5.0"
            ]
          },
          "metadata": {},
          "execution_count": 19
        }
      ]
    },
    {
      "cell_type": "code",
      "source": [
        "texto_concat = 'Me gusta el número ' + str(10) # No da errores porque hemos convertido el 10 de entero a cadena.\n",
        "\n",
        "print(texto_concat)"
      ],
      "metadata": {
        "colab": {
          "base_uri": "https://localhost:8080/"
        },
        "id": "AVl3sii48_eI",
        "outputId": "adf104cf-030e-4884-c136-fb661a48de6f"
      },
      "execution_count": null,
      "outputs": [
        {
          "output_type": "stream",
          "name": "stdout",
          "text": [
            "Me gusta el número 10\n"
          ]
        }
      ]
    },
    {
      "cell_type": "markdown",
      "source": [
        "También existe el tipo de dato **None** que significa que no hay valor o que aun no ha sido definido y está \"vacío\". Usamos la función **type()** para saber qué tipo de dato contiene una variable.\n",
        "\n",
        "\n",
        "\n"
      ],
      "metadata": {
        "id": "zs_TuDrrhkJ3"
      }
    },
    {
      "cell_type": "code",
      "source": [
        "a = None\n",
        "\n",
        "type(a)"
      ],
      "metadata": {
        "colab": {
          "base_uri": "https://localhost:8080/"
        },
        "id": "0n5CMdm28U1a",
        "outputId": "e76950a8-eba1-44b2-fb4f-910b73999d80"
      },
      "execution_count": null,
      "outputs": [
        {
          "output_type": "execute_result",
          "data": {
            "text/plain": [
              "NoneType"
            ]
          },
          "metadata": {},
          "execution_count": 16
        }
      ]
    }
  ]
}