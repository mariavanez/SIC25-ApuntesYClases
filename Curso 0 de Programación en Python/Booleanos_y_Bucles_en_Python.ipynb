{
  "nbformat": 4,
  "nbformat_minor": 0,
  "metadata": {
    "colab": {
      "provenance": [],
      "authorship_tag": "ABX9TyOEcgl4phU2VVfMrW/gp+sr",
      "include_colab_link": true
    },
    "kernelspec": {
      "name": "python3",
      "display_name": "Python 3"
    },
    "language_info": {
      "name": "python"
    }
  },
  "cells": [
    {
      "cell_type": "markdown",
      "metadata": {
        "id": "view-in-github",
        "colab_type": "text"
      },
      "source": [
        "<a href=\"https://colab.research.google.com/github/mariavanez/SIC25-ApuntesYClases/blob/main/Curso%200%20de%20Programaci%C3%B3n%20en%20Python/Booleanos_y_Bucles_en_Python.ipynb\" target=\"_parent\"><img src=\"https://colab.research.google.com/assets/colab-badge.svg\" alt=\"Open In Colab\"/></a>"
      ]
    },
    {
      "cell_type": "markdown",
      "source": [
        "#**1. Booleanos en Python**"
      ],
      "metadata": {
        "id": "Bd-6bIzemcUd"
      }
    },
    {
      "cell_type": "markdown",
      "source": [
        "True: verdadero\n",
        "\n",
        "False: falso\n",
        "\n",
        "- Todos los números diferentes a 0 son Verdaderos.\n",
        "- El 0 se convierte en Falso.\n",
        "- Los espacios en blanco se devuelven como False ('')\n",
        "- Todos los caracteres,a  diferencia del espacio en blanco, se devuelven como True.\n",
        "- None es una palabra clave que significa que no hay valor.\n",
        "- [] es un objeto que se llama lista, si no hay ningún objeto dentro de ella, se devuelve False.\n",
        "\n"
      ],
      "metadata": {
        "id": "Ppfz7UOfmiFq"
      }
    },
    {
      "cell_type": "code",
      "source": [
        "print(bool(1))\n",
        "print(bool(0))\n",
        "print(bool(''))\n",
        "print(bool('hello'))\n",
        "print(bool(None))\n",
        "print(bool([]))"
      ],
      "metadata": {
        "colab": {
          "base_uri": "https://localhost:8080/"
        },
        "id": "N7gYHXQTm713",
        "outputId": "20361bba-4540-414d-ef27-deb0ec4b77c4"
      },
      "execution_count": null,
      "outputs": [
        {
          "output_type": "stream",
          "name": "stdout",
          "text": [
            "True\n",
            "False\n",
            "False\n",
            "True\n",
            "False\n",
            "False\n"
          ]
        }
      ]
    },
    {
      "cell_type": "markdown",
      "source": [
        "- Cuando se aplican valores de comparación a una operación, se devuelven booleanos."
      ],
      "metadata": {
        "id": "iKRPxJTMoPVN"
      }
    },
    {
      "cell_type": "code",
      "source": [
        "a = 100\n",
        "b = 200\n",
        "\n",
        "print(a == b) #Igual que\n",
        "print(a != b) #Diferente que\n",
        "print(a > b) #Mayor que\n",
        "print(a < b) #Menor que\n",
        "print(a >= b) #Mayor o igual que\n",
        "print(a <= b) #Menor o igual que"
      ],
      "metadata": {
        "colab": {
          "base_uri": "https://localhost:8080/"
        },
        "id": "nWnXEORboUP1",
        "outputId": "3910a2eb-fce5-4c88-c8a8-7f9746bb4e6d"
      },
      "execution_count": null,
      "outputs": [
        {
          "output_type": "stream",
          "name": "stdout",
          "text": [
            "False\n",
            "True\n",
            "False\n",
            "True\n",
            "False\n",
            "True\n"
          ]
        }
      ]
    },
    {
      "cell_type": "markdown",
      "source": [
        "- El comando **is** compara el tipo de dato, no el valor como lo hacen los operadores de comparación"
      ],
      "metadata": {
        "id": "KnM57c9LpbGq"
      }
    },
    {
      "cell_type": "code",
      "source": [
        "a = 1\n",
        "b = 1.0\n",
        "\n",
        "print(a == b)\n",
        "print(a is b)"
      ],
      "metadata": {
        "colab": {
          "base_uri": "https://localhost:8080/"
        },
        "id": "W7uW-9oapinb",
        "outputId": "00b51861-6ab4-4215-8088-7ad8044f477c"
      },
      "execution_count": null,
      "outputs": [
        {
          "output_type": "stream",
          "name": "stdout",
          "text": [
            "True\n",
            "False\n"
          ]
        }
      ]
    },
    {
      "cell_type": "markdown",
      "source": [
        "- El operador **in** verifica que el dato se encuentre dentro de una cadena o lista con varios datos"
      ],
      "metadata": {
        "id": "C0eMt-2ep8j8"
      }
    },
    {
      "cell_type": "code",
      "source": [
        "print('aaa' in 'aaa-bbb-ccc')\n",
        "print('bbb' in 'aaa-bbb-ccc')\n",
        "print('ddd' in 'aaa-bbb-ccc')\n",
        "\n",
        "lista = [1, 2, 3]\n",
        "print(3 in lista)\n",
        "print(7 in lista)"
      ],
      "metadata": {
        "colab": {
          "base_uri": "https://localhost:8080/"
        },
        "id": "l448iFyaqF44",
        "outputId": "7817957f-fc8d-40d9-a67e-74d68c5b85aa"
      },
      "execution_count": null,
      "outputs": [
        {
          "output_type": "stream",
          "name": "stdout",
          "text": [
            "True\n",
            "True\n",
            "False\n",
            "True\n",
            "False\n"
          ]
        }
      ]
    },
    {
      "cell_type": "markdown",
      "source": [
        "#**2. Estructuras básicas de control de un programa**"
      ],
      "metadata": {
        "id": "EDeP8uSnuqRx"
      }
    },
    {
      "cell_type": "markdown",
      "source": [
        "> Hay tres estructuras de control principales de un programa.\n",
        "\n",
        "1. Secuencia: estructura en donde los comandos se ejecutan secuencialmente.\n",
        "\n",
        "2. Selección: estructura en la que se selecciona y ejecuta una de varias instrucciones.\n",
        "3. Iteración: estructura en la que el mismo comando se ejecuta repetidamente.\n",
        "\n",
        "> Sentencias de control: aquellas que controlan el flujo de un programa (no secuenciales).\n",
        "\n",
        "- Sentencias condicionales: if, if-else, elif\n",
        "- Sentencias de bucle: for, while\n",
        "- Comandos que modifican el flujo de una sentencia de bucle: break, continue\n",
        "\n"
      ],
      "metadata": {
        "id": "GrI_PlHOuxza"
      }
    },
    {
      "cell_type": "markdown",
      "source": [
        "## **ESTRUCTURAS DE CONTROL**"
      ],
      "metadata": {
        "id": "Df0qG1lNEePw"
      }
    },
    {
      "cell_type": "markdown",
      "source": [
        "### SECUENCIA"
      ],
      "metadata": {
        "id": "2mYFGtdfDxeG"
      }
    },
    {
      "cell_type": "code",
      "source": [
        "#1. Secuencia: estructura en donde los comandos se ejecutan secuencialmente.\n",
        "\n",
        "\"\"\"\n",
        "> PSEUDOCÓDIGO\n",
        "1. leer nombre\n",
        "2. imprimir \"Hola \" + nombre\n",
        "3. imprimir \"Bienvenido al sistema\"\n",
        "\"\"\"\n",
        "\n",
        "nombre = input(\"Ingresa tu nombre: \")\n",
        "print(\"Hola,\", nombre)\n",
        "print(\"Bienvenido al sistema\")"
      ],
      "metadata": {
        "colab": {
          "base_uri": "https://localhost:8080/"
        },
        "id": "xo-WfdSYBS72",
        "outputId": "45c875ae-2f5b-419e-ebf7-fb5f89e89122"
      },
      "execution_count": null,
      "outputs": [
        {
          "output_type": "stream",
          "name": "stdout",
          "text": [
            "Ingresa tu nombre: María\n",
            "Hola, María\n",
            "Bienvenido al sistema\n"
          ]
        }
      ]
    },
    {
      "cell_type": "markdown",
      "source": [
        "### SELECCIÓN"
      ],
      "metadata": {
        "id": "KB4jK4ZkDzvy"
      }
    },
    {
      "cell_type": "code",
      "source": [
        "# 2. Selección: estructura en la que se selecciona y ejecuta una de varias instrucciones\n",
        "\n",
        "\"\"\"\n",
        "> PSEUDOCÓDIGO\n",
        "1. leer edad\n",
        "2. si edad >= 18 entonces:\n",
        "    imprimir \"Eres mayor de edad\"\n",
        "3. sino:\n",
        "    imprimir \"Eres menor de edad\"\n",
        "\"\"\"\n",
        "\n",
        "edad = int(input(\"Ingresa tu edad: \"))\n",
        "\n",
        "if edad >= 18:\n",
        "  print(\"Eres mayor de edad\")\n",
        "else:\n",
        "  print(\"Eres menor de edad\")"
      ],
      "metadata": {
        "colab": {
          "base_uri": "https://localhost:8080/"
        },
        "id": "EucLaXixCBpI",
        "outputId": "414facca-b2da-40b6-86a3-219a0933d576"
      },
      "execution_count": null,
      "outputs": [
        {
          "output_type": "stream",
          "name": "stdout",
          "text": [
            "Ingresa tu edad: 21\n",
            "Eres mayor de edad\n"
          ]
        }
      ]
    },
    {
      "cell_type": "markdown",
      "source": [
        "### ITERACIÓN"
      ],
      "metadata": {
        "id": "XZXxSb6WD2kx"
      }
    },
    {
      "cell_type": "code",
      "source": [
        "# 3. Iteración: se repite un bloque de instrucciones hasta que se cumpla una condición.\n",
        "\n",
        "\"\"\"\n",
        "> PSEUDOCÓDIGO\n",
        "1. contador = 1\n",
        "2. mientras contador <= 5 hacer:\n",
        "    2.1 imprimir \"Número: \" + contador\n",
        "    2.2 contador = contador + 1\n",
        "\"\"\"\n",
        "\n",
        "contador = 1                  #Creamos una variable de valor 1\n",
        "while contador <= 5:          #Mientras el contador sea menor o igual a cinco, este bucle funcionará\n",
        "  print(\"Número:\", contador)  #Se imprime el str y el valor de la variable\n",
        "  contador += 1               #En cada bucle o iteración, se suma el valor por 1. Cada vez que la condición se cumpla, se suma al resultado un 1."
      ],
      "metadata": {
        "colab": {
          "base_uri": "https://localhost:8080/"
        },
        "id": "8XzoBM0OCn2s",
        "outputId": "8f932e73-f78d-4918-85aa-48601599ee24"
      },
      "execution_count": null,
      "outputs": [
        {
          "output_type": "stream",
          "name": "stdout",
          "text": [
            "Número: 1\n",
            "Número: 2\n",
            "Número: 3\n",
            "Número: 4\n",
            "Número: 5\n"
          ]
        }
      ]
    },
    {
      "cell_type": "markdown",
      "source": [
        "## **SENTENCIAS DE CONTROL**"
      ],
      "metadata": {
        "id": "crw5OH7NEkT9"
      }
    },
    {
      "cell_type": "markdown",
      "source": [
        "> Sentencias de control: aquellas que controlan el flujo de un programa (no secuenciales).\n",
        "\n",
        "- Sentencias condicionales: if, if-else, elif\n",
        "- Sentencias de bucle: for, while\n",
        "- Comandos que modifican el flujo de una sentencia de bucle: break, continue"
      ],
      "metadata": {
        "id": "bzYlWZMdD9d4"
      }
    },
    {
      "cell_type": "markdown",
      "source": [
        "### SENTENCIAS CONDICIONALES (if, if-else, elif)"
      ],
      "metadata": {
        "id": "qE9Tv2ChFOpm"
      }
    },
    {
      "cell_type": "code",
      "source": [
        "# Sentencia if: Se ejecuta la instrucción solo si la condición es verdadera.\n",
        "\n",
        "\"\"\"\n",
        "> PSEUDOCÓDIGO\n",
        "1. si edad >= 18 entonces:\n",
        "    imprimir \"Eres mayor de edad\"\n",
        "\"\"\"\n",
        "\n",
        "edad = int(input(\"Ingresa tu edad: \"))   # Pide la edad al usuario\n",
        "\n",
        "if edad >= 18:                           # Si la edad es mayor o igual a 18\n",
        "    print(\"Puedes votar\")                # Imprime el mensaje"
      ],
      "metadata": {
        "colab": {
          "base_uri": "https://localhost:8080/"
        },
        "id": "NoMHu0wmFGvj",
        "outputId": "acf338a7-7174-46ce-97ad-bfc40a87d368"
      },
      "execution_count": null,
      "outputs": [
        {
          "output_type": "stream",
          "name": "stdout",
          "text": [
            "Ingresa tu edad: 18\n",
            "Puedes votar\n"
          ]
        }
      ]
    },
    {
      "cell_type": "code",
      "source": [
        "# Sentencia if-else: El programa elige entre dos caminos posibles.\n",
        "\n",
        "\"\"\"\n",
        "> PSEUDOCÓDIGO\n",
        "1. leer temperatura\n",
        "2. si temperatura >= 30 entonces:\n",
        "    imprimir \"Hace calor\"\n",
        "3. sino:\n",
        "    imprimir \"Hace fresco\"\n",
        "\"\"\"\n",
        "\n",
        "temperatura = int(input(\"Ingresa la temperatura: \"))  # Pide la temperatura\n",
        "\n",
        "if temperatura >= 30:                                # Si la temperatura es mayor o igual a 30\n",
        "    print(\"Hace calor\")                              # Imprime \"Hace calor\"\n",
        "else:                                                # En cualquier otro caso\n",
        "    print(\"Hace fresco\")                             # Imprime \"Hace fresco\""
      ],
      "metadata": {
        "colab": {
          "base_uri": "https://localhost:8080/"
        },
        "id": "KZUHdpUrF8iC",
        "outputId": "1fbe3a3f-f453-4de2-ee65-a9a6f326a803"
      },
      "execution_count": null,
      "outputs": [
        {
          "output_type": "stream",
          "name": "stdout",
          "text": [
            "Ingresa la temperatura: 20\n",
            "Hace fresco\n"
          ]
        }
      ]
    },
    {
      "cell_type": "code",
      "source": [
        "# Sentencia if-else-elif: Permite varias condiciones encadenadas.\n",
        "\n",
        "\"\"\"\n",
        "1. leer nota\n",
        "2. si nota >= 90 entonces:\n",
        "    imprimir \"Excelente\"\n",
        "3. sino si nota >= 70 entonces:\n",
        "    imprimir \"Aprobado\"\n",
        "4. sino:\n",
        "    imprimir \"Reprobado\"\n",
        "\"\"\"\n",
        "\n",
        "nota = int(input(\"Ingresa tu nota: \"))   # Pide la nota\n",
        "\n",
        "if nota >= 90:                           # Si la nota es mayor o igual a 90\n",
        "    print(\"Excelente\")                   # Muestra \"Excelente\"\n",
        "elif nota >= 70:                         # Si no, pero es mayor o igual a 70\n",
        "    print(\"Aprobado\")                    # Muestra \"Aprobado\"\n",
        "else:                                    # En cualquier otro caso (menor a 70)\n",
        "    print(\"Reprobado\")                   # Muestra \"Reprobado\""
      ],
      "metadata": {
        "colab": {
          "base_uri": "https://localhost:8080/"
        },
        "id": "fPISzHXdEASl",
        "outputId": "27fd71e4-fb3b-4749-8fd8-fd27e78756ae"
      },
      "execution_count": null,
      "outputs": [
        {
          "output_type": "stream",
          "name": "stdout",
          "text": [
            "Ingresa tu nota: 20\n",
            "Reprobado\n"
          ]
        }
      ]
    },
    {
      "cell_type": "markdown",
      "source": [
        "### SENTENCIAS DE BUCLE (for, while)"
      ],
      "metadata": {
        "id": "NtEx77yTHYKX"
      }
    },
    {
      "cell_type": "code",
      "source": [
        "#1. Bucle for: Se repite un número de veces definido.\n",
        "\n",
        "\"\"\"\n",
        "> PSEUDOCÓDIGO\n",
        "1. para i desde 1 hasta 5, hacer:\n",
        "    imprimir \"Número: \" + i\n",
        "\"\"\"\n",
        "\n",
        "for i in range(1, 6):            # Crea un bucle desde 1 hasta 5 (el 6 no se incluye)\n",
        "    print(\"Número:\", i)          # Imprime el valor de i en cada vuelta"
      ],
      "metadata": {
        "colab": {
          "base_uri": "https://localhost:8080/"
        },
        "id": "UukpyOYAHi4q",
        "outputId": "13eba290-11c2-4753-8d89-a307a34fedaa"
      },
      "execution_count": null,
      "outputs": [
        {
          "output_type": "stream",
          "name": "stdout",
          "text": [
            "Número: 1\n",
            "Número: 2\n",
            "Número: 3\n",
            "Número: 4\n",
            "Número: 5\n"
          ]
        }
      ]
    },
    {
      "cell_type": "code",
      "source": [
        "#2. Bucle while: Se repite mientras una condición sea verdadera.\n",
        "\n",
        "\"\"\"\n",
        "> PSEUDOCÓDIGO\n",
        "1. contador = 1\n",
        "2. mientras contador <= 5, hacer\n",
        "    2.1 imprimir \"Número: \" + contador\n",
        "    2.2 contador = contador + 1\n",
        "\"\"\"\n",
        "\n",
        "contador = 1                          # Se inicializa la variable contador\n",
        "while contador <= 5:                  # Mientras el contador sea menor o igual a 5\n",
        "    print(\"Número:\", contador)        # Imprime el valor actual de contador\n",
        "    contador += 1                     # Incrementa en 1 el contador"
      ],
      "metadata": {
        "colab": {
          "base_uri": "https://localhost:8080/"
        },
        "id": "va0tG9i9I8rQ",
        "outputId": "7cdf4556-9eff-4e87-9e41-e96f4c2d7ac6"
      },
      "execution_count": null,
      "outputs": [
        {
          "output_type": "stream",
          "name": "stdout",
          "text": [
            "Número: 1\n",
            "Número: 2\n",
            "Número: 3\n",
            "Número: 4\n",
            "Número: 5\n"
          ]
        }
      ]
    },
    {
      "cell_type": "markdown",
      "source": [
        "### COMANDOS MODIFICADORES DE BUCLES (break, continue)"
      ],
      "metadata": {
        "id": "lqbvvXd0Jg-J"
      }
    },
    {
      "cell_type": "code",
      "source": [
        "# 1. Comando break: Detiene el bucle inmediatamente, aunque no haya terminado.\n",
        "\n",
        "\"\"\"\n",
        "> PSEUDOCÓDIGO\n",
        "1. para i desde 1 hasta 10, hacer:\n",
        "    1.1 si i == 5, entonces:\n",
        "        1.2 imprimir \"Se encontró el 5, salir del bucle\"\n",
        "        1.3 romper\n",
        "    1.4 imprimir \"Número: \" + i\n",
        "\"\"\"\n",
        "\n",
        "for i in range(1, 11):                           # Bucle del 1 al 10\n",
        "    if i == 5:                                   # Si el valor es 5\n",
        "        print(\"Se encontró el 5, salir del bucle\")\n",
        "        break                                    # Se corta el bucle\n",
        "    print(\"Número:\", i)                          # Si no es 5, imprime el número"
      ],
      "metadata": {
        "colab": {
          "base_uri": "https://localhost:8080/"
        },
        "id": "bu9B8DwrJoWN",
        "outputId": "6518a7cf-5800-4d13-904c-67c7d6d18c50"
      },
      "execution_count": null,
      "outputs": [
        {
          "output_type": "stream",
          "name": "stdout",
          "text": [
            "Número: 1\n",
            "Número: 2\n",
            "Número: 3\n",
            "Número: 4\n",
            "Se encontró el 5, salir del bucle\n"
          ]
        }
      ]
    },
    {
      "cell_type": "code",
      "source": [
        "# 2. Comando continue: Salta la iteración actual y pasa a la siguiente.\n",
        "\n",
        "\"\"\"\n",
        "> PSEUDOCÓDIGO\n",
        "1. para i desde 1 hasta 5, hacer:\n",
        "    1.1 si i == 3, entonces\n",
        "        1.2 imprimir \"Saltando el número 3\"\n",
        "        1.3 continuar\n",
        "    1.4 imprimir \"Número: \" + i\n",
        "\"\"\"\n",
        "\n",
        "for i in range(1, 6):                        # Bucle del 1 al 5\n",
        "    if i == 3:                               # Si el número es 3\n",
        "        print(\"Saltando el número 3\")        # Muestra mensaje\n",
        "        continue                             # Salta a la siguiente vuelta\n",
        "    print(\"Número:\", i)                      # Si no es 3, imprime el número"
      ],
      "metadata": {
        "colab": {
          "base_uri": "https://localhost:8080/"
        },
        "id": "0NbDz_mvKbiz",
        "outputId": "7f956df9-eaa6-4e9b-fe39-c245e20dbecd"
      },
      "execution_count": null,
      "outputs": [
        {
          "output_type": "stream",
          "name": "stdout",
          "text": [
            "Número: 1\n",
            "Número: 2\n",
            "Saltando el número 3\n",
            "Número: 4\n",
            "Número: 5\n"
          ]
        }
      ]
    },
    {
      "cell_type": "markdown",
      "source": [
        "### PRÁCTICAS"
      ],
      "metadata": {
        "id": "4uO4jhPb9GNA"
      }
    },
    {
      "cell_type": "code",
      "source": [
        "for i in range(10):\n",
        "  print(i, \"WELCOME!\")"
      ],
      "metadata": {
        "colab": {
          "base_uri": "https://localhost:8080/"
        },
        "id": "4yt--UdAMcS5",
        "outputId": "06ef922b-4fe6-42b2-a61f-0989a8cfe2c6"
      },
      "execution_count": null,
      "outputs": [
        {
          "output_type": "stream",
          "name": "stdout",
          "text": [
            "0 WELCOME!\n",
            "1 WELCOME!\n",
            "2 WELCOME!\n",
            "3 WELCOME!\n",
            "4 WELCOME!\n",
            "5 WELCOME!\n",
            "6 WELCOME!\n",
            "7 WELCOME!\n",
            "8 WELCOME!\n",
            "9 WELCOME!\n"
          ]
        }
      ]
    },
    {
      "cell_type": "code",
      "source": [
        "# Cálculo Factorial con bucles for\n",
        "\n",
        "n = int(input('Ingresa un número: '))\n",
        "factorial = 1\n",
        "\n",
        "for i in range(1, n + 1):\n",
        "  factorial = factorial * i\n",
        "print(str(n) + '! = ', factorial)"
      ],
      "metadata": {
        "colab": {
          "base_uri": "https://localhost:8080/"
        },
        "id": "bnWzlXRNoRQT",
        "outputId": "9f299e32-ea4c-4e5b-ef52-3c2dd92d8c97"
      },
      "execution_count": null,
      "outputs": [
        {
          "output_type": "stream",
          "name": "stdout",
          "text": [
            "Ingresa un número: 30\n",
            "30! =  265252859812191058636308480000000\n"
          ]
        }
      ]
    },
    {
      "cell_type": "code",
      "source": [
        "# Bucle for de números impares.\n",
        "\n",
        "for i in range(1, 10, 2): # Se detiene en 9.\n",
        "  print(i)\n",
        "\n",
        "print(\"-----------\") # Separador. OJO con la identación.\n",
        "\n",
        "for n in range(1, 11, 2): # No incluye el 10 porque no es impar.\n",
        "  print(n)\n"
      ],
      "metadata": {
        "colab": {
          "base_uri": "https://localhost:8080/"
        },
        "id": "rJ1a79WnrLL2",
        "outputId": "e5f5fba9-a7f9-482b-a815-e982311d82b1"
      },
      "execution_count": null,
      "outputs": [
        {
          "output_type": "stream",
          "name": "stdout",
          "text": [
            "1\n",
            "3\n",
            "5\n",
            "7\n",
            "9\n",
            "-----------\n",
            "1\n",
            "3\n",
            "5\n",
            "7\n",
            "9\n"
          ]
        }
      ]
    },
    {
      "cell_type": "code",
      "source": [
        "# Muestra de un bucle que se suma con una variale en cada iteración.\n",
        "\n",
        "s = 0\n",
        "for x in range(1, 11):\n",
        "  print(\"ITERACIÓN:\", x, \"\\nEl s actual:\", s, \"\\nEl x actual:\", x, \"\\nSe suman\", s, \"+\", x, \"\\nResultado =\", s + x, \"\\n-------------------\")\n",
        "  s += x"
      ],
      "metadata": {
        "colab": {
          "base_uri": "https://localhost:8080/"
        },
        "id": "H7OY1bXktsl1",
        "outputId": "8c8c4f83-0868-49cb-a9f9-312f06deb511"
      },
      "execution_count": null,
      "outputs": [
        {
          "output_type": "stream",
          "name": "stdout",
          "text": [
            "ITERACIÓN: 1 \n",
            "El s actual: 0 \n",
            "El x actual: 1 \n",
            "Se suman 0 + 1 \n",
            "Resultado = 1 \n",
            "-------------------\n",
            "ITERACIÓN: 2 \n",
            "El s actual: 1 \n",
            "El x actual: 2 \n",
            "Se suman 1 + 2 \n",
            "Resultado = 3 \n",
            "-------------------\n",
            "ITERACIÓN: 3 \n",
            "El s actual: 3 \n",
            "El x actual: 3 \n",
            "Se suman 3 + 3 \n",
            "Resultado = 6 \n",
            "-------------------\n",
            "ITERACIÓN: 4 \n",
            "El s actual: 6 \n",
            "El x actual: 4 \n",
            "Se suman 6 + 4 \n",
            "Resultado = 10 \n",
            "-------------------\n",
            "ITERACIÓN: 5 \n",
            "El s actual: 10 \n",
            "El x actual: 5 \n",
            "Se suman 10 + 5 \n",
            "Resultado = 15 \n",
            "-------------------\n",
            "ITERACIÓN: 6 \n",
            "El s actual: 15 \n",
            "El x actual: 6 \n",
            "Se suman 15 + 6 \n",
            "Resultado = 21 \n",
            "-------------------\n",
            "ITERACIÓN: 7 \n",
            "El s actual: 21 \n",
            "El x actual: 7 \n",
            "Se suman 21 + 7 \n",
            "Resultado = 28 \n",
            "-------------------\n",
            "ITERACIÓN: 8 \n",
            "El s actual: 28 \n",
            "El x actual: 8 \n",
            "Se suman 28 + 8 \n",
            "Resultado = 36 \n",
            "-------------------\n",
            "ITERACIÓN: 9 \n",
            "El s actual: 36 \n",
            "El x actual: 9 \n",
            "Se suman 36 + 9 \n",
            "Resultado = 45 \n",
            "-------------------\n",
            "ITERACIÓN: 10 \n",
            "El s actual: 45 \n",
            "El x actual: 10 \n",
            "Se suman 45 + 10 \n",
            "Resultado = 55 \n",
            "-------------------\n"
          ]
        }
      ]
    },
    {
      "cell_type": "code",
      "source": [
        "for letra in \"Python\":\n",
        "  print(letra, end='-')"
      ],
      "metadata": {
        "colab": {
          "base_uri": "https://localhost:8080/"
        },
        "id": "eFe8rnGovOiT",
        "outputId": "2e7763af-42a5-401d-97df-8d0257e663c9"
      },
      "execution_count": null,
      "outputs": [
        {
          "output_type": "stream",
          "name": "stdout",
          "text": [
            "P-y-t-h-o-n-"
          ]
        }
      ]
    },
    {
      "cell_type": "code",
      "source": [
        "# Ejemplo con bucle while\n",
        "\n",
        "n = int(input(\"Introduzca un número: \"))\n",
        "s = 0\n",
        "i = 1\n",
        "while i <= n:\n",
        "  s += i\n",
        "  i += 1\n",
        "print('La suma de 1 a {} es {}'.format(n, s))"
      ],
      "metadata": {
        "colab": {
          "base_uri": "https://localhost:8080/"
        },
        "id": "0WSE9ucW-B12",
        "outputId": "95acd4f7-e703-422b-f47e-2b857b5117f0"
      },
      "execution_count": null,
      "outputs": [
        {
          "output_type": "stream",
          "name": "stdout",
          "text": [
            "Introduzca un número: 5\n",
            "La suma de 1 a 5 es 15\n"
          ]
        }
      ]
    },
    {
      "cell_type": "code",
      "source": [
        "# While en listas y cambiante según los datos\n",
        "\n",
        "selected = None # Dejamos la variable sin valores para más adelante\n",
        "\n",
        "while selected not in ['tijeras', 'piedra', 'papel']: # Mientras el valor no esté dentro de esta lista, el bucle se ejecutará.\n",
        "  selected = input('Elige entre piedra, papel y tijeras: ')\n",
        "print('Usted eligió:', selected)\n",
        "\n",
        "# While es adecuado para instrucciones repetidas que se ejecutan solo cuando se ingresa el valor deseado."
      ],
      "metadata": {
        "colab": {
          "base_uri": "https://localhost:8080/"
        },
        "id": "JLJ38CKuDK6A",
        "outputId": "cc61ac8a-4508-423d-ff66-a30ca3c6f281"
      },
      "execution_count": 2,
      "outputs": [
        {
          "output_type": "stream",
          "name": "stdout",
          "text": [
            "Elige entre piedra, papel y tijeras: papel\n",
            "Usted eligió: papel\n"
          ]
        }
      ]
    },
    {
      "cell_type": "code",
      "source": [
        "# Suma de números negativos y su solución con el bucle while\n",
        "\n",
        "n = -1\n",
        "\n",
        "while n <= 0: # Bucle repetido hasta que no se ingrese un número positivo\n",
        "  n = int(input('Ingresa un número positivo: '))\n",
        "s = 0\n",
        "\n",
        "for i in range(1, n + 1):\n",
        "  s += i\n",
        "print('La suma de 1 a {} es {}'.format(n, s))\n"
      ],
      "metadata": {
        "colab": {
          "base_uri": "https://localhost:8080/"
        },
        "id": "IHWDM19-E0bX",
        "outputId": "7db6bc33-4b65-4094-bdd6-0d9e409eabab"
      },
      "execution_count": 3,
      "outputs": [
        {
          "output_type": "stream",
          "name": "stdout",
          "text": [
            "Ingresa un número positivo: -2\n",
            "Ingresa un número positivo: 3\n",
            "La suma de 1 a 3 es 6\n"
          ]
        }
      ]
    },
    {
      "cell_type": "markdown",
      "source": [
        "# **3. Módulo Aleatorio**"
      ],
      "metadata": {
        "id": "jaswmhkUF5WZ"
      }
    },
    {
      "cell_type": "markdown",
      "source": [
        "En Python todo lo relacionado con números aleatorios está en el módulo random de la librería estándar.\n",
        "Ese módulo no requiere instalación, viene incluido con Python."
      ],
      "metadata": {
        "id": "djM0pr6BGFue"
      }
    },
    {
      "cell_type": "code",
      "source": [
        "# random.random(): Devuelve un número decimal aleatorio entre 0.0 y 1.0.\n",
        "\n",
        "import random\n",
        "print(random.random())"
      ],
      "metadata": {
        "colab": {
          "base_uri": "https://localhost:8080/"
        },
        "id": "MOzBzz6AGAwO",
        "outputId": "b3babf13-7162-441d-edfd-d9c52b63f58d"
      },
      "execution_count": 3,
      "outputs": [
        {
          "output_type": "stream",
          "name": "stdout",
          "text": [
            "0.6029357229211443\n"
          ]
        }
      ]
    },
    {
      "cell_type": "code",
      "source": [
        "# random.randint(a, b): Devuelve un número entero aleatorio entre a y b incluyéndolos.\n",
        "\n",
        "print(random.randint(1, 10))"
      ],
      "metadata": {
        "colab": {
          "base_uri": "https://localhost:8080/"
        },
        "id": "3aOCUaFqGn0z",
        "outputId": "5ff14a28-5463-435f-86c0-97c5ce8b8f48"
      },
      "execution_count": 6,
      "outputs": [
        {
          "output_type": "stream",
          "name": "stdout",
          "text": [
            "4\n"
          ]
        }
      ]
    },
    {
      "cell_type": "code",
      "source": [
        "# random.randrange(inicio, fin, paso): Devuelve un número dentro de un rango (similar a range).\n",
        "\n",
        "print(random.randrange(0, 10, 2))"
      ],
      "metadata": {
        "colab": {
          "base_uri": "https://localhost:8080/"
        },
        "id": "n_uROgV-GzIX",
        "outputId": "eaa9cbfe-12fb-4d68-98a5-4418002210ae"
      },
      "execution_count": 8,
      "outputs": [
        {
          "output_type": "stream",
          "name": "stdout",
          "text": [
            "6\n"
          ]
        }
      ]
    },
    {
      "cell_type": "code",
      "source": [
        "# random.uniform(a, b): Devuelve un número decimal aleatorio entre a y b.\n",
        "\n",
        "print(random.uniform(1, 5))"
      ],
      "metadata": {
        "colab": {
          "base_uri": "https://localhost:8080/"
        },
        "id": "UdvE8ZXdG-fr",
        "outputId": "a05befb6-e65b-4e5f-9fda-c98d2f7d09f0"
      },
      "execution_count": 9,
      "outputs": [
        {
          "output_type": "stream",
          "name": "stdout",
          "text": [
            "1.89855486862321\n"
          ]
        }
      ]
    },
    {
      "cell_type": "code",
      "source": [
        "# random.choice(lista): Devuelve un elemento aleatorio de una lista, tupla o string.\n",
        "\n",
        "frutas = [\"manzana\", \"pera\", \"uva\"]\n",
        "print(random.choice(frutas))"
      ],
      "metadata": {
        "colab": {
          "base_uri": "https://localhost:8080/"
        },
        "id": "VaQtiUrvHOQb",
        "outputId": "4b31f6ef-56ef-44b0-d58d-782ac9a78fed"
      },
      "execution_count": 10,
      "outputs": [
        {
          "output_type": "stream",
          "name": "stdout",
          "text": [
            "pera\n"
          ]
        }
      ]
    },
    {
      "cell_type": "code",
      "source": [
        "# random.choices(lista, k=N): Devuelve una lista de N elementos elegidos al azar (con repetición).\n",
        "\n",
        "print(random.choices([1, 2, 3, 4], k=3))"
      ],
      "metadata": {
        "colab": {
          "base_uri": "https://localhost:8080/"
        },
        "id": "rehLoOZWHUbP",
        "outputId": "64ef1431-9ace-4d44-de54-e030c30dafa3"
      },
      "execution_count": 11,
      "outputs": [
        {
          "output_type": "stream",
          "name": "stdout",
          "text": [
            "[4, 1, 2]\n"
          ]
        }
      ]
    },
    {
      "cell_type": "code",
      "source": [
        "# random.shuffle(lista): Mezcla aleatoriamente los elementos de una lista en su lugar.\n",
        "\n",
        "cartas = [1, 2, 3, 4, 5]\n",
        "random.shuffle(cartas)\n",
        "print(cartas)"
      ],
      "metadata": {
        "colab": {
          "base_uri": "https://localhost:8080/"
        },
        "id": "4Pzu1qaXHuGN",
        "outputId": "fa7447e2-52e6-41ea-ae9d-4b95c0a0060d"
      },
      "execution_count": 4,
      "outputs": [
        {
          "output_type": "stream",
          "name": "stdout",
          "text": [
            "[2, 5, 1, 4, 3]\n"
          ]
        }
      ]
    },
    {
      "cell_type": "code",
      "source": [
        "# random.seed(valor): Permite fijar la semilla del generador aleatorio, para que los resultados se repitan siempre igual (útil para pruebas).\n",
        "\n",
        "random.seed(42)\n",
        "print(random.random()) # Siempre dará el mismo número si la semilla es la misma"
      ],
      "metadata": {
        "colab": {
          "base_uri": "https://localhost:8080/"
        },
        "id": "g1yzxpVV41sr",
        "outputId": "e9000f07-4b08-4a5b-978a-9892962afd5e"
      },
      "execution_count": 6,
      "outputs": [
        {
          "output_type": "stream",
          "name": "stdout",
          "text": [
            "0.6394267984578837\n"
          ]
        }
      ]
    },
    {
      "cell_type": "markdown",
      "source": [
        "Además de random, también existe el módulo secrets para generar números aleatorios más seguros (criptográficamente). Por ejemplo, si necesitas contraseñas o tokens.\n",
        "\n",
        "Y si necesitas números aleatorios científicos (distribuciones, simulaciones), ahí entra numpy.random con muchas más funciones."
      ],
      "metadata": {
        "id": "DqMrAUBF5oao"
      }
    },
    {
      "cell_type": "markdown",
      "source": [
        "# **4. Comandos Modificadores de Bucles: break y continue (Ejemplos)**"
      ],
      "metadata": {
        "id": "PlURs7wV6inM"
      }
    },
    {
      "cell_type": "markdown",
      "source": [
        "## COMANDO BREAK"
      ],
      "metadata": {
        "id": "7wIVaFBS8E6c"
      }
    },
    {
      "cell_type": "markdown",
      "source": [
        "Cuando hacemos sentencias de bucle (while y for), estas se ejecutarán siempre mientras las condiciones sean verdaderas. Con el comando *break*, finalizamos el bucle y salimos de él."
      ],
      "metadata": {
        "id": "_jfJf4iF7cDK"
      }
    },
    {
      "cell_type": "code",
      "source": [
        "st = 'Programming'\n",
        "\n",
        "# Este bucle solo funciona si hay una consonante. Se rompe cuando encuentra la vocal.\n",
        "for ch in st:\n",
        "  if ch in ['a', 'e', 'i', 'o', 'u']:\n",
        "    break\n",
        "  print(ch)\n",
        "print('Finalizado')"
      ],
      "metadata": {
        "colab": {
          "base_uri": "https://localhost:8080/"
        },
        "id": "v98N5uJT6u5V",
        "outputId": "bc145fbe-890d-4d6a-ab6a-ecb4596917c6"
      },
      "execution_count": 7,
      "outputs": [
        {
          "output_type": "stream",
          "name": "stdout",
          "text": [
            "P\n",
            "r\n",
            "Finalizado\n"
          ]
        }
      ]
    },
    {
      "cell_type": "markdown",
      "source": [
        "## COMANDO CONTINUE"
      ],
      "metadata": {
        "id": "LykuI8Kd8HU0"
      }
    },
    {
      "cell_type": "markdown",
      "source": [
        "Este comando desempeña la función de saltarse solo las oraciones que le preceden, y sigue en el bucle hasta finalizar la condición especificada.\n",
        "\n",
        "> La terminación del bucle solo se concede cuando la condición sea falsa."
      ],
      "metadata": {
        "id": "p1QaNByb8PND"
      }
    },
    {
      "cell_type": "code",
      "source": [
        "st2 = 'Programming'\n",
        "\n",
        "# Función que solo ejecuta las consonantes\n",
        "for ch2 in st2:\n",
        "  if ch2 in ['a', 'e', 'i', 'o', 'u']:\n",
        "    continue # Aquí se omiten las vocales\n",
        "  print(ch2)\n",
        "print('Finalizado')"
      ],
      "metadata": {
        "colab": {
          "base_uri": "https://localhost:8080/"
        },
        "id": "fA1BpGL38KcK",
        "outputId": "23ccedea-3087-4690-91b0-4bdebd3d98d6"
      },
      "execution_count": 8,
      "outputs": [
        {
          "output_type": "stream",
          "name": "stdout",
          "text": [
            "P\n",
            "r\n",
            "g\n",
            "r\n",
            "m\n",
            "m\n",
            "n\n",
            "g\n",
            "Finalizado\n"
          ]
        }
      ]
    },
    {
      "cell_type": "markdown",
      "source": [
        "# **5. Doble Bucle**"
      ],
      "metadata": {
        "id": "CSU8eyOH89Nh"
      }
    },
    {
      "cell_type": "markdown",
      "source": [
        "Un **doble bucle** es simplemente un bucle dentro de otro bucle. En Python, lo usamos cuando necesitamos recorrer datos en dos dimensiones (por ejemplo, una tabla, una matriz o combinaciones de elementos)."
      ],
      "metadata": {
        "id": "9FoBTwVf9AU4"
      }
    },
    {
      "cell_type": "code",
      "source": [
        "# Tablas de multiplicar con un for anidado.\n",
        "\n",
        "for i in range(2, 10): # Bucle externo, que avanzará más lento. Comienza en la tabla del 2 y avanza hasta la tabla del 9.\n",
        "  for j in range(1, 11): # Bucle interno. Se repite completamente cada vez que el externo da una vuelta.\n",
        "    print('{}x{} = {:2d} '.format(i, j, i*j), end = ' ')\n",
        "  print() # Ejecuta el bucle interno y cambia la línea."
      ],
      "metadata": {
        "colab": {
          "base_uri": "https://localhost:8080/"
        },
        "id": "7h01DoDT9hrd",
        "outputId": "db4e14ad-5664-4c31-bcf5-2ce6a418a61f"
      },
      "execution_count": 16,
      "outputs": [
        {
          "output_type": "stream",
          "name": "stdout",
          "text": [
            "2x1 =  2  2x2 =  4  2x3 =  6  2x4 =  8  2x5 = 10  2x6 = 12  2x7 = 14  2x8 = 16  2x9 = 18  2x10 = 20  \n",
            "3x1 =  3  3x2 =  6  3x3 =  9  3x4 = 12  3x5 = 15  3x6 = 18  3x7 = 21  3x8 = 24  3x9 = 27  3x10 = 30  \n",
            "4x1 =  4  4x2 =  8  4x3 = 12  4x4 = 16  4x5 = 20  4x6 = 24  4x7 = 28  4x8 = 32  4x9 = 36  4x10 = 40  \n",
            "5x1 =  5  5x2 = 10  5x3 = 15  5x4 = 20  5x5 = 25  5x6 = 30  5x7 = 35  5x8 = 40  5x9 = 45  5x10 = 50  \n",
            "6x1 =  6  6x2 = 12  6x3 = 18  6x4 = 24  6x5 = 30  6x6 = 36  6x7 = 42  6x8 = 48  6x9 = 54  6x10 = 60  \n",
            "7x1 =  7  7x2 = 14  7x3 = 21  7x4 = 28  7x5 = 35  7x6 = 42  7x7 = 49  7x8 = 56  7x9 = 63  7x10 = 70  \n",
            "8x1 =  8  8x2 = 16  8x3 = 24  8x4 = 32  8x5 = 40  8x6 = 48  8x7 = 56  8x8 = 64  8x9 = 72  8x10 = 80  \n",
            "9x1 =  9  9x2 = 18  9x3 = 27  9x4 = 36  9x5 = 45  9x6 = 54  9x7 = 63  9x8 = 72  9x9 = 81  9x10 = 90  \n"
          ]
        }
      ]
    }
  ]
}