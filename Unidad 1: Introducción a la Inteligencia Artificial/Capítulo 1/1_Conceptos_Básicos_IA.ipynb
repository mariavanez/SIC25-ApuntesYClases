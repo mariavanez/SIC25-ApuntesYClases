{
  "nbformat": 4,
  "nbformat_minor": 0,
  "metadata": {
    "colab": {
      "provenance": [],
      "authorship_tag": "ABX9TyNlRr9o6TGklj7qiUnM047l",
      "include_colab_link": true
    },
    "kernelspec": {
      "name": "python3",
      "display_name": "Python 3"
    },
    "language_info": {
      "name": "python"
    }
  },
  "cells": [
    {
      "cell_type": "markdown",
      "metadata": {
        "id": "view-in-github",
        "colab_type": "text"
      },
      "source": [
        "<a href=\"https://colab.research.google.com/github/mariavanez/SIC25-ApuntesYClases/blob/main/Unidad%201%3A%20Introducci%C3%B3n%20a%20la%20Inteligencia%20Artificial/Cap%C3%ADtulo%201/1_Conceptos_B%C3%A1sicos_IA.ipynb\" target=\"_parent\"><img src=\"https://colab.research.google.com/assets/colab-badge.svg\" alt=\"Open In Colab\"/></a>"
      ]
    },
    {
      "cell_type": "markdown",
      "source": [
        "# **1. ¿QUÉ ES LA INTELIGENCIA ARTIFICAL?**"
      ],
      "metadata": {
        "id": "MTUSPok4adFU"
      }
    },
    {
      "cell_type": "markdown",
      "source": [
        "La inteligencia artificial (IA) es un área de la informática que busca crear sistemas capaces de **realizar tareas** que normalmente requieren inteligencia humana, como aprender, razonar, resolver problemas, comprender lenguaje natural, reconocer patrones, tomar decisiones e incluso crear contenido.\n",
        "\n",
        "En términos simples: es cuando una máquina o programa puede “pensar” o actuar de forma inteligente, imitando ciertos procesos de la mente humana.\n",
        "\n",
        "> **Tipos principales de IA:**\n",
        "\n",
        "- IA débil o estrecha: Diseñada para una tarea específica (por ejemplo, Siri, ChatGPT, los sistemas de recomendación de Netflix o Spotify).\n",
        "\n",
        "- IA general: Podría realizar cualquier tarea cognitiva como un humano (todavía en desarrollo, no existe plenamente).\n",
        "\n",
        "- IA superinteligente: Una inteligencia superior a la humana en todos los aspectos (es solo teórica por ahora).\n",
        "\n",
        "> **Técnicas usadas en IA:**\n",
        "\n",
        "- Machine Learning (aprendizaje automático): algoritmos que aprenden de datos para mejorar sin ser programados directamente.\n",
        "\n",
        "- Deep Learning (aprendizaje profundo): redes neuronales inspiradas en el cerebro humano para reconocer imágenes, voz, texto, etc.\n",
        "\n",
        "- Procesamiento de Lenguaje Natural (PLN): permite que las máquinas entiendan y generen lenguaje humano.\n",
        "\n",
        "> **Ejemplos de IA en la vida diaria:**\n",
        "\n",
        "- Recomendaciones de compras en Amazon.\n",
        "\n",
        "- Filtros de spam en correos electrónicos.\n",
        "\n",
        "- Reconocimiento facial en teléfonos.\n",
        "\n",
        "- Chatbots.\n",
        "\n",
        "- Vehículos autónomos."
      ],
      "metadata": {
        "id": "nvu8BH0ualVY"
      }
    },
    {
      "cell_type": "markdown",
      "source": [
        "\n",
        "\n",
        "---\n",
        "\n"
      ],
      "metadata": {
        "id": "3wI5bDXbbcAD"
      }
    },
    {
      "cell_type": "markdown",
      "source": [
        "# **2. TIPOS DE INTELIGENCIA ARTIFICAL**"
      ],
      "metadata": {
        "id": "XzJoXmp8beCY"
      }
    },
    {
      "cell_type": "markdown",
      "source": [
        "## **ANI (Artificial Narrow Intelligence)**\n",
        "\n",
        "> En español: Inteligencia Artificial Estrecha o Débil.\n",
        "\n",
        "- Es la IA que solo puede hacer una tarea específica para la que fue programada o entrenada.\n",
        "\n",
        "- No entiende nada fuera de su dominio.\n",
        "\n",
        "Ejemplos:\n",
        "\n",
        "- Siri o Alexa (pueden responder preguntas, pero no escribir un libro científico).\n",
        "\n",
        "- El algoritmo de YouTube que recomienda videos.\n",
        "\n",
        "- Una IA que reconoce rostros, pero no sabe conducir un auto.\n",
        "\n",
        "> La gran mayoría de las IAs actuales son ANI."
      ],
      "metadata": {
        "id": "rxxgF8Svcr6b"
      }
    },
    {
      "cell_type": "markdown",
      "source": [
        "\n",
        "\n",
        "---\n",
        "\n"
      ],
      "metadata": {
        "id": "SYFDloOfdDqM"
      }
    },
    {
      "cell_type": "markdown",
      "source": [
        "## **AGI (Artificial General Intelligence)**\n",
        "\n",
        "> En español: Inteligencia Artificial General.\n",
        "\n",
        "- Es una IA que puede razonar, aprender y adaptarse en diferentes áreas como lo hace un ser humano.\n",
        "\n",
        "- Puede cambiar de tarea, aplicar conocimiento de un campo a otro y resolver problemas que no se le habían enseñado directamente.\n",
        "\n",
        "Ejemplo hipotético:\n",
        "\n",
        "- Una IA que entiende medicina, escribe poesía, programa software y conduce un auto, todo con la misma “mente”.\n",
        "\n",
        "> La AGI todavía no existe; los científicos trabajan en ello, pero es un desafío enorme."
      ],
      "metadata": {
        "id": "67N5dakydEvH"
      }
    },
    {
      "cell_type": "markdown",
      "source": [
        "\n",
        "\n",
        "---\n",
        "\n"
      ],
      "metadata": {
        "id": "g1Q0ullHdqcg"
      }
    },
    {
      "cell_type": "markdown",
      "source": [
        "# **3. SUBCONJUNTOS DE LA INTELIGENCIA ARTIFICAL**\n"
      ],
      "metadata": {
        "id": "nr7oCRR2dsub"
      }
    },
    {
      "cell_type": "markdown",
      "source": [
        "Cuando hablamos de subconjuntos de la Inteligencia Artificial (IA) nos referimos a las ramas o áreas que forman parte de ella. Cada una tiene métodos distintos para lograr que una máquina \"piense\" o actúe de manera inteligente.\n",
        "\n",
        "        IA → Machine Learning → Deep Learning\n",
        "  \n",
        "                  └→ NLP, Visión por Computadora, Robótica, etc."
      ],
      "metadata": {
        "id": "JFhzjDyceYU1"
      }
    },
    {
      "cell_type": "markdown",
      "source": [
        "\n",
        "\n",
        "---\n",
        "\n"
      ],
      "metadata": {
        "id": "xvOX3RvDeq1A"
      }
    },
    {
      "cell_type": "markdown",
      "source": [
        "## **Machine Learning (ML) - Aprendizaje Automático**\n",
        "\n",
        "- La IA aprende de los datos y mejora con la experiencia sin estar programada paso a paso.\n",
        "\n",
        "- Ejemplo: un sistema que predice si un correo es spam analizando miles de correos previos."
      ],
      "metadata": {
        "id": "LY-9PJVQeruF"
      }
    },
    {
      "cell_type": "markdown",
      "source": [
        "## **Deep Learning (DL) - Aprendizaje Profundo**\n",
        "\n",
        "- Es un subconjunto del Machine Learning.\n",
        "\n",
        "- Usa redes neuronales artificiales con muchas capas para imitar el funcionamiento del cerebro.\n",
        "\n",
        "- Ejemplo: reconocimiento facial en Facebook, asistentes de voz como Alexa."
      ],
      "metadata": {
        "id": "pNqQD25ufFsf"
      }
    },
    {
      "cell_type": "markdown",
      "source": [
        "## **Procesamiento de Lenguaje Natural (PLN / NLP)**\n",
        "\n",
        "- Permite que las máquinas entiendan, interpreten y generen lenguaje humano.\n",
        "\n",
        "- Ejemplo: traductores automáticos (Google Translate), chatbots (como ChatGPT)."
      ],
      "metadata": {
        "id": "u70YXB_ufaMC"
      }
    },
    {
      "cell_type": "markdown",
      "source": [
        "## **Visión por Computadora (Computer Vision)**\n",
        "\n",
        "- Enseña a las máquinas a ver e interpretar imágenes o videos.\n",
        "\n",
        "- Ejemplo: autos autónomos que reconocen peatones y señales de tránsito."
      ],
      "metadata": {
        "id": "AyjQODzWfpP5"
      }
    },
    {
      "cell_type": "markdown",
      "source": [
        "## **Robótica**\n",
        "\n",
        "- Combina IA con hardware para que robots puedan interactuar con el mundo físico.\n",
        "\n",
        "- Ejemplo: robots en fábricas, drones de entrega."
      ],
      "metadata": {
        "id": "kaup9gSHfwu3"
      }
    },
    {
      "cell_type": "markdown",
      "source": [
        "## **Sistemas Expertos**\n",
        "\n",
        "- IAs que usan bases de conocimiento + reglas lógicas para resolver problemas específicos como un humano experto.\n",
        "\n",
        "- Ejemplo: un software que diagnostica enfermedades a partir de síntomas."
      ],
      "metadata": {
        "id": "XFnOVR4Df6Ul"
      }
    },
    {
      "cell_type": "markdown",
      "source": [
        "## **Reinforcement Learning (Aprendizaje por Refuerzo)**\n",
        "\n",
        "- La IA aprende tomando decisiones mediante prueba y error, recibiendo recompensas o castigos.\n",
        "\n",
        "- Ejemplo: AlphaGo (IA de Google que venció a campeones de ajedrez y Go)."
      ],
      "metadata": {
        "id": "noS_ZaZygBqs"
      }
    }
  ]
}