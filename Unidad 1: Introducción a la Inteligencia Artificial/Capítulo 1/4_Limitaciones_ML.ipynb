{
  "nbformat": 4,
  "nbformat_minor": 0,
  "metadata": {
    "colab": {
      "provenance": [],
      "authorship_tag": "ABX9TyNrbkVKkR1k0isIjtQNzBNL",
      "include_colab_link": true
    },
    "kernelspec": {
      "name": "python3",
      "display_name": "Python 3"
    },
    "language_info": {
      "name": "python"
    }
  },
  "cells": [
    {
      "cell_type": "markdown",
      "metadata": {
        "id": "view-in-github",
        "colab_type": "text"
      },
      "source": [
        "<a href=\"https://colab.research.google.com/github/mariavanez/SIC25-ApuntesYClases/blob/main/Unidad%201%3A%20Introducci%C3%B3n%20a%20la%20Inteligencia%20Artificial/Cap%C3%ADtulo%201/4_Limitaciones_ML.ipynb\" target=\"_parent\"><img src=\"https://colab.research.google.com/assets/colab-badge.svg\" alt=\"Open In Colab\"/></a>"
      ]
    },
    {
      "cell_type": "markdown",
      "source": [
        "# **1. DATOS DE ENTRENAMIENTO INSUFICIENTES**"
      ],
      "metadata": {
        "id": "ARrNsP21SRW5"
      }
    },
    {
      "cell_type": "markdown",
      "source": [
        "- Los algoritmos necesitan **muchos datos** para aprender bien.\n",
        "\n",
        "  * Ejemplo: para que un modelo reconozca gatos en fotos, no bastan 20 imágenes, necesitan miles o millones.\n",
        "\n",
        "  * Problema: recolectar tantos datos es costoso o difícil.\n",
        "  \n",
        "---"
      ],
      "metadata": {
        "id": "llmqpHYCSYkf"
      }
    },
    {
      "cell_type": "markdown",
      "source": [
        "# **2. DATOS DE ENTRENAMIENTO SIN REPRESENTACIÓN**\n",
        "\n",
        "Los datos pueden no reflejar bien la realidad → el modelo aprende mal.\n",
        "\n",
        "- **Ruido de muestreo:** cuando los datos seleccionados tienen demasiada variación aleatoria.\n",
        "  * Ejemplo: entrenar un modelo de encuestas con una muestra pequeña y casual.\n",
        "\n",
        "- **Sesgo de muestreo:** incluso con una muestra grande, si está mal recolectada, no representa a la población.\n",
        "  * Ejemplo: entrenar un modelo de salud solo con datos de hombres → no funcionará bien en mujeres.\n",
        "\n",
        "---"
      ],
      "metadata": {
        "id": "K6tpEKZ1SufC"
      }
    },
    {
      "cell_type": "markdown",
      "source": [
        "# **3. DATOS DE MALA CALIDAD**\n",
        "\n",
        "- Datos con errores, valores atípicos (*outliers*), o mucho ruido → el modelo no logra encontrar patrones.\n",
        "\n",
        "- Solución: **limpieza de datos** → corregir, eliminar o imputar valores atípicos o incorrectos.\n",
        "\n",
        "- Ejemplo: un dataset de direcciones donde muchos correos están mal escritos.\n",
        "\n",
        "---"
      ],
      "metadata": {
        "id": "cagRdyosTe5M"
      }
    },
    {
      "cell_type": "markdown",
      "source": [
        "# **4. CARACTERÍSTICAS IRRELEVANTES**\n",
        "\n",
        "\n",
        "\n"
      ],
      "metadata": {
        "id": "N6fnzu2BT8Yy"
      }
    },
    {
      "cell_type": "markdown",
      "source": [
        "- El modelo solo aprende si las variables (features) son útiles.\n",
        "\n",
        "- Aquí entra la **ingeniería de características**:\n",
        "  * **Selección de características** → elegir las más relevantes.\n",
        "  * **Extracción de características** → combinar varibales o reducir dimensiones para crear nuevas más útiles.\n",
        "* Ejemplo: para predecir el precio de una casa, el color de la puerta no importa, pero la ubicación sí.\n",
        "\n",
        "---"
      ],
      "metadata": {
        "id": "z-c10eHnUrQp"
      }
    },
    {
      "cell_type": "markdown",
      "source": [
        "# **5. SOBREAJUSTE (OVERFITTING)**"
      ],
      "metadata": {
        "id": "fVs4CwnhUtMO"
      }
    },
    {
      "cell_type": "markdown",
      "source": [
        "- El modelo aprende demasiado bien los datos de entrenamiento, incluso el ruido, y no generaliza a adatos nuevos.\n",
        "\n",
        "- Soluciones:\n",
        "\n",
        "  * Regularización → aplicar restricciones para simplificar el modelo.\n",
        "  * Usar más datos\n",
        "  * Validación cruzada.\n",
        "\n",
        "- Ejemplo: un estudiante memoriza las preguntas de un examen anterior, pero no sabe resolver preguntas nuevas.\n",
        "\n",
        "---"
      ],
      "metadata": {
        "id": "3LJhZiUHU1LE"
      }
    },
    {
      "cell_type": "markdown",
      "source": [
        "# **6. SUBAJUSTE (UNDERFITTING)**"
      ],
      "metadata": {
        "id": "MA8UntAgVQcJ"
      }
    },
    {
      "cell_type": "markdown",
      "source": [
        "- El modelo es demasiado simple y no logra captar los patrones en los datos.\n",
        "\n",
        "- Soluciones:\n",
        "\n",
        "  * Usar un modelo más complejo (con más parámetros).\n",
        "  * Mejorar las características (ingeniería de características).\n",
        "  * Reducir restricciones (hiperparámetros de regularización).\n",
        "\n",
        "- Ejemplo: intentar predecir precios de casas usando solo la varibale \"metros cuadrados\", ignorando ubicación o número de habitaciones.\n",
        "\n",
        "---"
      ],
      "metadata": {
        "id": "o08l72T9VViZ"
      }
    },
    {
      "cell_type": "markdown",
      "source": [
        "# **RESUMEN**"
      ],
      "metadata": {
        "id": "pUPVxv4vVyTa"
      }
    },
    {
      "cell_type": "markdown",
      "source": [
        "  Las limitaciones principales tienen que ver con la **cantidad y calidad de los datos**, la **relevancia de las características**, y el **equilibrio entre spbreajuste y subajuste**. Resolver estos problemas es la clave para un modelo de ML exitoso."
      ],
      "metadata": {
        "id": "APxaPnH_V5VN"
      }
    },
    {
      "cell_type": "code",
      "execution_count": null,
      "metadata": {
        "id": "qMs05L3hQBFU"
      },
      "outputs": [],
      "source": []
    }
  ]
}