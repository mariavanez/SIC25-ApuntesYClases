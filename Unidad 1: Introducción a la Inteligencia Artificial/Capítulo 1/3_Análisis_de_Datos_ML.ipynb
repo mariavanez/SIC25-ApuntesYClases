{
  "nbformat": 4,
  "nbformat_minor": 0,
  "metadata": {
    "colab": {
      "provenance": [],
      "authorship_tag": "ABX9TyN+93NDH94CkUfSYWfrtpHZ",
      "include_colab_link": true
    },
    "kernelspec": {
      "name": "python3",
      "display_name": "Python 3"
    },
    "language_info": {
      "name": "python"
    }
  },
  "cells": [
    {
      "cell_type": "markdown",
      "metadata": {
        "id": "view-in-github",
        "colab_type": "text"
      },
      "source": [
        "<a href=\"https://colab.research.google.com/github/mariavanez/SIC25-ApuntesYClases/blob/main/Unidad%201%3A%20Introducci%C3%B3n%20a%20la%20Inteligencia%20Artificial/Cap%C3%ADtulo%201/3_An%C3%A1lisis_de_Datos_ML.ipynb\" target=\"_parent\"><img src=\"https://colab.research.google.com/assets/colab-badge.svg\" alt=\"Open In Colab\"/></a>"
      ]
    },
    {
      "cell_type": "markdown",
      "source": [
        "# **1. ANÁLISIS DE DATOS BASADOS EN MACHINE LEARNING: PLANES Y PROCEDIMIENTOS**"
      ],
      "metadata": {
        "id": "9Z36jiiyfJ5K"
      }
    },
    {
      "cell_type": "markdown",
      "source": [
        "\n",
        "\n",
        "---\n",
        "\n"
      ],
      "metadata": {
        "id": "6ZkEqfotf21L"
      }
    },
    {
      "cell_type": "markdown",
      "source": [
        "## **1.1 Entendiendo el negocio y definiendo el problema**"
      ],
      "metadata": {
        "id": "X3NaHuRdff18"
      }
    },
    {
      "cell_type": "markdown",
      "source": [
        "> Este paso es como el **mapa inicial del viaje**. Si defines mal el problema, todo el proyecto (datos, modelos, resultados) se va a desviar. Por eso se insiste tanto en repetir, aclarar y redefinir."
      ],
      "metadata": {
        "id": "B8-AWR4_i9I0"
      }
    },
    {
      "cell_type": "markdown",
      "source": [
        "- Máxima prioridad: **definir el problema.**\n",
        "\n",
        "  * Antes de pensar en modelos de *machine learning*, lo más importante es tener claridad sobre qué problemas se quieren resolver.\n",
        "  * Ejemplo: una empresa dice \"queremos usar IA\", pero eso no es un problema definido. El problema real puede ser: \"queremos predecir qué clientes tienen mayor probabilidad de cancelar su suscripción\".\n",
        "\n",
        "- **Comprender el dominio del negocio.**\n",
        "\n",
        "  * ¿Qué hace la organización?\n",
        "  * ¿Cómo funciona su industria?\n",
        "  * ¿Qué métricas son importantes? (ventas, retención, costos, etc). Esto se llama **domain knowledge** (conocimiento del dominio).\n",
        "\n",
        "- **Redefinir y refinar el problema**\n",
        "\n",
        "  * Se empieza con una definición inicial del problema.\n",
        "  * Luego, se revisa, se reformula y se pregunta: *\"¿este realmente es el objetivo?\"*\n",
        "  * Cada vez se obtiene una definición más clara y accionable.\n",
        "\n",
        "- **Identificar datos y posibles soluciones**\n",
        "\n",
        "  * ¿Qué datos necesitamos?\n",
        "  * ¿Qué datos tenemos disponibles?\n",
        "  * ¿Qué datos debemos recolectar?\n",
        "\n",
        "En paralelo, esto abre la puerta a pensar en qué técnicas de machine learning podrían servir (clasificación, regresión, clustering, etc), aunque todavía no se decide definitivamente.\n",
        "\n",
        "\n",
        "\n",
        "---\n",
        "\n"
      ],
      "metadata": {
        "id": "Nzv_MSoZfuKA"
      }
    },
    {
      "cell_type": "markdown",
      "source": [
        "## **1.2 Recopilación de datos**"
      ],
      "metadata": {
        "id": "1BcwSEBpjh1P"
      }
    },
    {
      "cell_type": "markdown",
      "source": [
        "> Una vez que ya sabes **qué quieres resolver** (ejemplo: predecir la rotación de clientes), ahora toca **buscar los datos necesarios** para trabajar en la solución.\n",
        "\n",
        "- **Fuentes de datos**\n",
        "\n",
        "  * Datos internos (ya existentes en la empresa):\n",
        "    * Bases de datos operacionales (ventas, clientes, inventario, etc)\n",
        "    * Data warehouse (almacén e datos centralizado) o data mart (subconjunto especializado de datos).\n",
        "    * Normalmente se consultan usando SQL.\n",
        "\n",
        "  * Datos externos (si no basta con lo interno)\n",
        "    * APIS → pedir datos a servicios externos (ejemplo: API de clima, API de Twitter/X).\n",
        "    * Web Scraping → extraer datos de páginas web de forma automatizada.\n",
        "    * Big data → si son datos muy grandes, se usan platafromas como Hadoop.\n",
        "\n",
        "-  **Generar datos adicionales**\n",
        "\n",
        "* Incluso si ya tienes datos, a veces se pueden crear nuevo a partir de los existentes:\n",
        "  * Transformaciones (ejemplo: de la fecha de compra sacar variables como \"día de la semana\" o \"temporada\").\n",
        "  * Combinación de fuentes (ejemplo: unir ventas con datos de clima para ver correlaciones).\n",
        "  * Datos sintéticos (simulados) si faltan ejemplos.\n",
        "\n",
        "- **La idea clave**\n",
        "\n",
        "> Los algoritmos de machine learning son tan buenos como los datos que reciben. Por eso, esta fase es crítica: **sin datos correctos, no hay buen análisis posible.**\n",
        "\n",
        "\n",
        "\n",
        "---\n",
        "\n"
      ],
      "metadata": {
        "id": "DgcdkvStkCrO"
      }
    },
    {
      "cell_type": "markdown",
      "source": [
        "## **1.3 Preprocesamiento y búsqueda de datos**\n"
      ],
      "metadata": {
        "id": "fgNgg6mxnPVB"
      }
    },
    {
      "cell_type": "markdown",
      "source": [
        "- **¿Qué significa *preprocesamiento*?**\n",
        "  * Es limpiar y preparar los datos para que un algoritmo de machine learning pueda usarlos. Los datos en bruto casi nunca están listos. Suelen tener errores, valores faltantes, duplicados, formatos distintos, etc.\n",
        "\n",
        "  * Ejemplos de preprocesamiento:\n",
        "\n",
        "    * Eliminar datos duplicados o inconsistentes.\n",
        "    * Manejar valores nulos (rellenarlos, eliminarlos, imputarlos con promedios, etc).\n",
        "    * Normalizar o escalar valores numéricos (ejemplo: qué precios en millones no opaquen a variables en decimales).\n",
        "    * Codificar datos categóricos (ejemplo: convertir \"Hombre/Mujer\" en 0/1 o usar *one-hot encoding*).\n",
        "\n",
        "- **Conversión de datos**\n",
        "  * Una vez limpios, los datos deben transformarse a un **formato que entienda el algoritmo**.\n",
        "  * Pasar texto a números (ejemplo: análisis de sentimientos con embeddings).\n",
        "  * Pasar fechas a variables útiles (ejemplo: día de la semana, mes, si es festivo).\n",
        "  * Reducir dimensionalidad (ejemplo: usar PCA para quedarte con las varibales más relevantes).\n",
        "\n",
        "- **Búsqueda / Exploración de datos (EDA - Exploratory Data Analysis)**\n",
        "  * Antes de entrenar modelos, **hay que exlorar los datos** para entenderlos:\n",
        "    * Estadísticas descriptivas (promedios, medianas, desviaciones).\n",
        "    * Visualizaciones (gráficas de dispersión, histogramas, correlaciones).\n",
        "    * Detectar sesgos o distribuciones raras (ejemplo: 90% de clientes son hombres → puede sesgar el modelo).\n",
        "\n",
        "- **Por qué es importante**\n",
        "> Este paso suele ser el más largo y demandante en un proyecto ML. Los algoritmos pueden ser muy sofisticados, pero si los datos no están bien preparados, el modelo no funcionará bien (garbage in, garbage out).\n",
        "\n",
        "Esta fase es como limpiar y organizar los ingredientes antes de cocinar. Si usas productos de mala calidad o mal preparados, el plato (el modelo) nunca saldrá bien.\n",
        "\n",
        "\n",
        "\n",
        "---\n",
        "\n"
      ],
      "metadata": {
        "id": "ZAqLYDP3nXTp"
      }
    },
    {
      "cell_type": "markdown",
      "source": [
        "### **Transformación de datos / NORMALIZACIÓN**"
      ],
      "metadata": {
        "id": "Q6ZTM52BrzAX"
      }
    },
    {
      "cell_type": "markdown",
      "source": [
        "En la **transformación de datos**, la **normalización** es una técnica para **escalar los valores numéricos** de las variables de modo que queden dentro de un mismo rango (generalmente entre 0 y 1).\n",
        "\n",
        "**¿Por qué se hace?**\n",
        "\n",
        "* En los datos, algunas variables pueden tener valores **muy grandes** y otras **muy pequeños**.\n",
        "\n",
        "  * Ejemplo:\n",
        "\n",
        "    * “Edad” → valores entre 0 y 100.\n",
        "    * “Ingresos” → valores entre 1000 y 100000.\n",
        "* Si no se normaliza, el modelo puede darle **más importancia** a la variable con números grandes, aunque no sea lo más relevante.\n",
        "\n",
        "**🔹 Fórmula de normalización (Min-Max Scaling)**\n",
        "\n",
        "$$\n",
        "x_{norm} = \\frac{x - x_{min}}{x_{max} - x_{min}}\n",
        "$$\n",
        "\n",
        "* `x` = valor original\n",
        "* `x_min` = valor mínimo de la columna\n",
        "* `x_max` = valor máximo de la columna\n",
        "* Resultado siempre queda en el rango `[0, 1]`\n",
        "\n",
        "**🔹 Ejemplo**\n",
        "\n",
        "Supongamos que tenemos la columna **Edad**:\n",
        "\n",
        "```\n",
        "[18, 25, 40, 60]\n",
        "```\n",
        "\n",
        "* Min = 18\n",
        "* Max = 60\n",
        "\n",
        "Aplicando normalización:\n",
        "\n",
        "$$\n",
        "\\text{Edad normalizada} = \\frac{\\text{Edad} - 18}{60 - 18}\n",
        "$$\n",
        "\n",
        "Resultados:\n",
        "\n",
        "* 18 → 0\n",
        "* 25 → 0.1667\n",
        "* 40 → 0.5238\n",
        "* 60 → 1\n",
        "\n",
        "\n",
        "**🔹 En Python con scikit-learn**"
      ],
      "metadata": {
        "id": "mMNdq0TUsZM7"
      }
    },
    {
      "cell_type": "code",
      "source": [
        "from sklearn.preprocessing import MinMaxScaler\n",
        "import pandas as pd\n",
        "\n",
        "# Ejemplo de DataFrame\n",
        "df = pd.DataFrame({'Edad': [18, 25, 40, 60]})\n",
        "\n",
        "scaler = MinMaxScaler()\n",
        "df[['Edad_normalizada']] = scaler.fit_transform(df[['Edad']])\n",
        "\n",
        "print(df)"
      ],
      "metadata": {
        "colab": {
          "base_uri": "https://localhost:8080/"
        },
        "id": "XIRjSyp3tNww",
        "outputId": "f2655e07-fae7-4bc8-acd1-ce95066b4b81"
      },
      "execution_count": 4,
      "outputs": [
        {
          "output_type": "stream",
          "name": "stdout",
          "text": [
            "   Edad  Edad_normalizada\n",
            "0    18          0.000000\n",
            "1    25          0.166667\n",
            "2    40          0.523810\n",
            "3    60          1.000000\n"
          ]
        }
      ]
    },
    {
      "cell_type": "markdown",
      "source": [
        "✅ **Resumen:** La **normalización** ajusta los valores de las variables numéricas a un rango común (usualmente \\[0,1]) para que todos los atributos tengan un peso comparable en los modelos de machine learning.\n",
        "\n",
        "---"
      ],
      "metadata": {
        "id": "Y2B0M-HGtUpp"
      }
    },
    {
      "cell_type": "markdown",
      "source": [
        "### **Transformación de datos / DISTRIBUCIÓN NORMAL**"
      ],
      "metadata": {
        "id": "G4UQHNzpvlQa"
      }
    },
    {
      "cell_type": "markdown",
      "source": [
        "**La distribución normal (o “curva de campana”)**\n",
        "\n",
        "> Es un tipo de distribución estadística donde los datos se concentran alrededor de un valor medio y se dispersan simétricamente hacia ambos lados.\n",
        "\n",
        "- Imagina un gráfico en forma de campana:\n",
        "\n",
        "  * La mayoría de los valores están cerca de la media.\n",
        "  * Muy pocos valores son extremadamente bajos o altos.\n",
        "  * Es simétrica (el lado izquierdo es el espejo del derecho).\n",
        "\n",
        "**🔹 Propiedades importantes**\n",
        "\n",
        "- Media (μ), mediana y moda son iguales.\n",
        "\n",
        "- La forma depende de la desviación estándar (σ):\n",
        "\n",
        "  * σ pequeña → curva más estrecha (datos muy agrupados).\n",
        "  * σ grande → curva más ancha (datos más dispersos).\n",
        "\n",
        "Aproximadamente:\n",
        "- 68% de los datos está entre μ ± 1σ.\n",
        "- 95% entre μ ± 2σ.\n",
        "- 99.7% entre μ ± 3σ.\n",
        "\n",
        "**🔹 Ejemplo en datos**\n",
        "\n",
        "Supongamos que medimos la estatura de 1000 personas:\n",
        "\n",
        "- Media = 170 cm\n",
        "- σ = 10 cm\n",
        "→ La mayoría tendrá entre 160 y 180 cm, y muy pocos medirán menos de 150 o más de 190.\n",
        "\n",
        "Eso suele generar una distribución normal.\n",
        "\n",
        "**📊 En transformación de datos**\n",
        "\n",
        "Cuando hablamos de distribución normal en preprocesamiento:\n",
        "\n",
        "- Algunos algoritmos de ML (como regresión lineal, k-means, PCA) funcionan mejor si las variables tienen una forma de distribución “cercana” a la normal.\n",
        "\n",
        "- Si los datos están muy sesgados (ej: ingresos, donde la mayoría gana poco y unos pocos muchísimo), se suelen aplicar transformaciones (logarítmica, raíz cuadrada, Box-Cox, Yeo-Johnson) para que la variable se parezca más a una normal.\n",
        "\n",
        "**🔹En Python: ver si los datos siguen una distribución normal:**"
      ],
      "metadata": {
        "id": "aQVihG5qwFPq"
      }
    },
    {
      "cell_type": "code",
      "execution_count": 6,
      "metadata": {
        "colab": {
          "base_uri": "https://localhost:8080/",
          "height": 449
        },
        "id": "mtG20SVEfHDS",
        "outputId": "0cb72f2d-b456-4333-8f00-6f3554bb8649"
      },
      "outputs": [
        {
          "output_type": "display_data",
          "data": {
            "text/plain": [
              "<Figure size 640x480 with 1 Axes>"
            ],
            "image/png": "[encoded data removed]"
          },
          "metadata": {}
        }
      ],
      "source": [
        "import seaborn as sns\n",
        "import matplotlib.pyplot as plt\n",
        "\n",
        "# Ejemplo: supongamos una columna \"edad\"\n",
        "sns.histplot(df['Edad'], kde=True)\n",
        "plt.show()"
      ]
    },
    {
      "cell_type": "markdown",
      "source": [
        "**✅ En resumen:**\n",
        "\n",
        "La distribución normal es una forma muy común en que se distribuyen los datos (curva de campana). En ML, se busca a veces que las variables estén más “normalizadas” hacia esa forma, porque ciertos algoritmos trabajan mejor así.\n",
        "\n",
        "- **La transformación logarítmica** comprime valores grandes → útil en datos muy sesgados (ej: ingresos, precios).\n",
        "\n",
        "- **La transformación raíz cuadrada** suaviza la asimetría → útil en datos de conteo.\n",
        "\n",
        "Ambas ayudan a que los datos se parezcan más a una distribución normal (campana).\n",
        "\n",
        "---\n",
        "\n"
      ],
      "metadata": {
        "id": "GzWRcPLQxrcf"
      }
    },
    {
      "cell_type": "markdown",
      "source": [
        "### **Transformación de datos / CATEGORIZACIÓN**"
      ],
      "metadata": {
        "id": "Rod0OjZEySRW"
      }
    },
    {
      "cell_type": "markdown",
      "source": [
        "Dentro de la transformación de datos, la categorización (también llamada **discretización** o **binning**) es el proceso de **convertir una variable numérica continua en categorías o intervalos.**\n",
        "\n",
        "¿Qué significa? → En vez de trabajar con valores numéricos exactos, agrupas esos valores en **rangos** o **clases**.\n",
        "\n",
        "**🔹 Ejemplo con la edad (variable numérica):**\n",
        "\n",
        "- En lugar de usar: `18, 22, 25, 30, 45, 60, 75`\n",
        "\n",
        "- Puedes categorizarlos en:\n",
        "  * Joven: 0–25\n",
        "  * Adulto: 26–59\n",
        "  * Mayor: 60+\n",
        "\n",
        "> Así, una variable continua se transforma en una variable categórica.\n",
        "\n",
        "📊 **¿Por qué se hace?**\n",
        "\n",
        "- Facilita la interpretación. Ejemplo: “edad adulta” es más claro que “43 años”.\n",
        "- Reduce ruido. Si no importa la diferencia exacta, los grupos simplifican.\n",
        "- Modelos no lineales. Algunos algoritmos funcionan mejor con categorías discretas.\n",
        "- Preparar datos para reglas o análisis descriptivo.\n",
        "\n",
        "**🔹 Ejemplo en Python**"
      ],
      "metadata": {
        "id": "_KSoXba4yaJq"
      }
    },
    {
      "cell_type": "code",
      "source": [
        "import pandas as pd\n",
        "\n",
        "# Columna de edades\n",
        "df = pd.DataFrame({'edad': [18, 22, 25, 30, 45, 60, 75]})\n",
        "\n",
        "# Definimos los intervalos y etiquetas\n",
        "bins = [0, 25, 59, 100]\n",
        "labels = ['Joven', 'Adulto', 'Mayor']\n",
        "\n",
        "# Categorizamos\n",
        "df['grupo_edad'] = pd.cut(df['edad'], bins=bins, labels=labels)\n",
        "\n",
        "print(df)"
      ],
      "metadata": {
        "colab": {
          "base_uri": "https://localhost:8080/"
        },
        "id": "IvPDcztAz791",
        "outputId": "18de55c9-b8d0-4cd9-e1da-35944b7c3d55"
      },
      "execution_count": 7,
      "outputs": [
        {
          "output_type": "stream",
          "name": "stdout",
          "text": [
            "   edad grupo_edad\n",
            "0    18      Joven\n",
            "1    22      Joven\n",
            "2    25      Joven\n",
            "3    30     Adulto\n",
            "4    45     Adulto\n",
            "5    60      Mayor\n",
            "6    75      Mayor\n"
          ]
        }
      ]
    },
    {
      "cell_type": "markdown",
      "source": [
        "**✅ Resumen:**\n",
        "\n",
        "La categorización es transformar variables numéricas continuas en intervalos o grupos (ej: convertir “edad = 45” en “Adulto”). Se usa para simplificar, interpretar mejor y, en algunos casos, mejorar el desempeño de los modelos.\n",
        "\n",
        "---\n"
      ],
      "metadata": {
        "id": "-us6w9Z-0O9R"
      }
    },
    {
      "cell_type": "markdown",
      "source": [
        "### **Transformación de datos / MUESTREO**"
      ],
      "metadata": {
        "id": "zTOTuptJ0Vyh"
      }
    },
    {
      "cell_type": "markdown",
      "source": [
        "En transformación de datos, el **muestreo** es el proceso de **seleccionar una parte representativa de los datos originales** para trabajar con ella, en lugar de usar todo el conjunto.\n",
        "\n",
        "**¿Por qué se hace muestreo?**\n",
        "\n",
        "- Reducir tamaño: a veces los datos son muy grandes y no es práctico procesarlos completos.\n",
        "\n",
        "- Acelerar el entrenamiento: entrenar un modelo con millones de filas puede ser lento.\n",
        "\n",
        "- Evitar sesgos: si el muestreo es bien hecho, la muestra conserva las mismas características del conjunto total.\n",
        "\n",
        "- Validación y pruebas: se pueden separar datos en train/test mediante muestreo.\n",
        "\n",
        "**Tipos de muestreo más comunes**\n",
        "\n",
        "  * **Aleatorización simple (muestreo aleatorio simple)**\n",
        "\n",
        "    * Seleccionas los datos al azar de todo el conjunto.\n",
        "\n",
        "    * Todos los elementos tienen la misma probabilidad de ser elegidos.\n",
        "\n",
        "👉 Ejemplo: si tienes 1000 registros, y quieres 100, tomas 100 filas al azar."
      ],
      "metadata": {
        "id": "gF0ntDVz1cZg"
      }
    },
    {
      "cell_type": "code",
      "source": [
        "df_sample = df.sample(n=5, random_state=42)"
      ],
      "metadata": {
        "id": "ef7YZJyU2Gxb"
      },
      "execution_count": 9,
      "outputs": []
    },
    {
      "cell_type": "markdown",
      "source": [
        "  * Muestreo sistemático\n",
        "\n",
        "    * Seleccionas cada k-ésimo elemento después de elegir un punto inicial al azar.\n",
        "\n",
        "    * Es más ordenado que el aleatorio simple.\n",
        "\n",
        "👉 Ejemplo: tienes 1000 personas, quieres 100 → eliges una persona al azar entre las primeras 10 y después tomas cada décima persona."
      ],
      "metadata": {
        "id": "thSK1BT-2fwf"
      }
    },
    {
      "cell_type": "markdown",
      "source": [
        "  * Aleatorización estratificada (muestreo estratificado)\n",
        "\n",
        "    * Divides los datos en estratos (grupos homogéneos) según una variable (ej: género, región, edad).\n",
        "\n",
        "    * Luego seleccionas una muestra aleatoria dentro de cada estrato en proporción al tamaño del grupo.\n",
        "\n",
        "👉 Ejemplo: en un dataset con 70% mujeres y 30% hombres → tu muestra también debe mantener 70/30."
      ],
      "metadata": {
        "id": "FsSh0Cqc2ppL"
      }
    },
    {
      "cell_type": "code",
      "source": [
        "from sklearn.model_selection import train_test_split\n",
        "\n",
        "X_train, X_test, y_train, y_test = train_test_split(\n",
        "    X, y, test_size=0.2, stratify=y, random_state=42\n",
        ")\n"
      ],
      "metadata": {
        "id": "nnY331jD25oH"
      },
      "execution_count": null,
      "outputs": []
    },
    {
      "cell_type": "markdown",
      "source": [
        "* **Muestreo por conglomerados**\n",
        "\n",
        "  * Se divide la población en conglomerados (grupos grandes heterogéneos).\n",
        "\n",
        "  * Luego se seleccionan algunos conglomerados completos al azar para analizar.\n",
        "\n",
        "👉 Ejemplo: en vez de elegir estudiantes individuales de todo un país, seleccionas ciertas escuelas completas al azar y trabajas con todos sus alumnos.\n",
        "\n",
        "* **Muestreo multietápico**\n",
        "\n",
        "  * Es una combinación de los anteriores.\n",
        "\n",
        "  * Primero se eligen conglomerados, luego dentro de ellos se hace muestreo estratificado o aleatorio simple.\n",
        "\n",
        "👉 Ejemplo:\n",
        "\n",
        "- Seleccionas 3 ciudades al azar (conglomerados).\n",
        "\n",
        "- Dentro de cada ciudad, seleccionas barrios al azar (segunda etapa).\n",
        "\n",
        "- Dentro de cada barrio, seleccionas personas aleatoriamente (tercera etapa).\n",
        "\n",
        "**✅ Resumen:**\n",
        "\n",
        "- Aleatorio simple: todos tienen la misma chance.\n",
        "\n",
        "- Sistemático: cada k-ésimo dato.\n",
        "\n",
        "- Estratificado: respetando proporciones de grupos.\n",
        "\n",
        "- Conglomerados: se eligen grupos enteros.\n",
        "\n",
        "- Multietápico: mezcla de métodos, en varias fases.\n",
        "\n",
        "\n",
        "\n",
        "---\n",
        "\n"
      ],
      "metadata": {
        "id": "unD4uvT13CA_"
      }
    },
    {
      "cell_type": "markdown",
      "source": [
        "### **Transformación de datos / REDUCCIÓN DE DIMENSIONALIDAD**"
      ],
      "metadata": {
        "id": "esZAgxjA3l6W"
      }
    },
    {
      "cell_type": "markdown",
      "source": [
        "En **transformación de datos**, la **reducción de dimensionalidad** es el proceso de **reducir el número de variables (características, columnas) de un dataset**, manteniendo la mayor cantidad posible de información relevante.\n",
        "\n",
        "**¿Por qué se usa?**\n",
        "\n",
        "* En machine learning, a veces tenemos **muchas variables** (decenas, cientos o miles).\n",
        "* Esto trae problemas como:\n",
        "\n",
        "  * **Ruido** (variables irrelevantes que confunden al modelo).\n",
        "  * **Sobreajuste (overfitting)** (el modelo aprende detalles innecesarios).\n",
        "  * **Costos computacionales altos** (más columnas = más memoria y más tiempo).\n",
        "* La reducción de dimensionalidad simplifica los datos → el modelo aprende más rápido y generaliza mejor.\n",
        "\n",
        "**🔹 Métodos comunes**\n",
        "\n",
        "1. **Selección de características (Feature Selection):**\n",
        "\n",
        "   * Se eligen solo las variables más importantes.\n",
        "   * Ejemplo: quedarse con las 10 características más correlacionadas con la variable objetivo.\n",
        "\n",
        "2. **Extracción de características (Feature Extraction):**\n",
        "\n",
        "   * Se transforman varias variables en otras nuevas que resumen la información.\n",
        "   * Ejemplo clásico: **PCA (Análisis de Componentes Principales)**.\n",
        "\n",
        "**📊 Ejemplo intuitivo**\n",
        "\n",
        "Imagina que quieres predecir si una persona está saludable:\n",
        "\n",
        "* Dataset original: 50 variables (altura, peso, presión arterial, colesterol, etc.).\n",
        "* Muchas se parecen (altura y peso → IMC).\n",
        "* Con reducción de dimensionalidad, puedes combinar esas variables en **componentes principales** que concentran la información.\n",
        "* Así pasas de 50 columnas → 5 o 10 más representativas.\n",
        "\n",
        "**🔹 PCA (Principal Component Analysis)** en breve\n",
        "\n",
        "* Busca “nuevas variables” llamadas **componentes principales**.\n",
        "* Cada componente es una combinación de las originales.\n",
        "* Ordena los componentes según cuánta **varianza** (información) explican.\n",
        "* Te quedas con los primeros, que explican la mayor parte de los datos.\n",
        "\n",
        "En Python:\n",
        "\n",
        "\n"
      ],
      "metadata": {
        "id": "GD4S8Cuw4Hqr"
      }
    },
    {
      "cell_type": "code",
      "source": [
        "from sklearn.decomposition import PCA\n",
        "from sklearn.preprocessing import StandardScaler\n",
        "\n",
        "# Escalar datos primero\n",
        "X_scaled = StandardScaler().fit_transform(X)\n",
        "\n",
        "# Reducir a 2 dimensiones\n",
        "pca = PCA(n_components=2)\n",
        "X_pca = pca.fit_transform(X_scaled)"
      ],
      "metadata": {
        "id": "PWPgMaM24mWo"
      },
      "execution_count": null,
      "outputs": []
    },
    {
      "cell_type": "markdown",
      "source": [
        "Ahora `X_pca` tiene solo 2 columnas, pero concentra gran parte de la información original.\n",
        "\n",
        "✅ **Resumen:**\n",
        "\n",
        "La **reducción de dimensionalidad** es una técnica de transformación que **reduce el número de variables** en un dataset, eliminando redundancia y ruido, para hacer el análisis más rápido, visual y eficiente. Se logra con:\n",
        "\n",
        "* **Selección de características** (mantener las más importantes).\n",
        "* **Extracción de características** (crear nuevas variables que resuman la información, como en PCA).\n",
        "\n",
        "---"
      ],
      "metadata": {
        "id": "1Wbf6Mdp4yOE"
      }
    },
    {
      "cell_type": "markdown",
      "source": [
        "### **Transformación de datos / COMPRESIÓN DE DATOS DE SEÑAL**"
      ],
      "metadata": {
        "id": "OdQhMJqv4zJk"
      }
    },
    {
      "cell_type": "markdown",
      "source": [
        "Cuando hablamos de transformación de datos, la **compresión de datos de señal** se refiere a reducir la cantidad de información que ocupa una señal (audio, imagen, video, sensores, etc.), pero intentando mantener la información esencial.\n",
        "\n",
        "**¿Qué es una señal?**\n",
        "\n",
        "En ciencia de datos, una señal es cualquier información que varía con el tiempo o el espacio:\n",
        "\n",
        "- Audio: voz, música.\n",
        "\n",
        "- Imágenes: fotos (señal bidimensional).\n",
        "\n",
        "- Video: secuencia de imágenes.\n",
        "\n",
        "- Sensores IoT: temperatura, vibración, presión, etc.\n",
        "\n",
        "**¿Qué significa compresión de señal?**\n",
        "\n",
        "Reducir la dimensionalidad o tamaño de la señal → ocupa menos espacio y se procesa más rápido.\n",
        "\n",
        "Puede ser:\n",
        "\n",
        "- Compresión sin pérdida (lossless): no se pierde información (ej: ZIP, FLAC, PNG).\n",
        "\n",
        "- Compresión con pérdida (lossy): se elimina información menos importante para ahorrar espacio (ej: MP3, JPEG, MP4).\n",
        "\n",
        "- Ejemplos en la práctica\n",
        "\n",
        "  * Audio:\n",
        "    * Una grabación de 1 minuto en crudo puede ocupar 10 MB.\n",
        "    * Al comprimirla a MP3, puede bajar a 1 MB, eliminando frecuencias que el oído humano casi no percibe.\n",
        "  \n",
        "  * Imágenes:\n",
        "    * Una foto en RAW pesa 20 MB.\n",
        "    * Convertida a JPEG puede pesar 2 MB, quitando detalles imperceptibles.\n",
        "\n",
        "  * Datos de sensores (IoT):\n",
        "    * Si un sensor mide 1000 veces por segundo, se puede comprimir la señal eliminando redundancias o usando técnicas como Transformada de Fourier (FFT) para quedarte solo con las frecuencias relevantes.\n",
        "\n",
        "**Técnicas comunes en compresión de señal**\n",
        "\n",
        "- Transformada de Fourier (FFT): descompone la señal en frecuencias → se descartan las menos importantes.\n",
        "\n",
        "- Transformada Wavelet (ondículas): analiza la señal en diferentes escalas (muy usada en imágenes y compresión de audio).\n",
        "\n",
        "- Codificación Run-Length (RLE): guarda secuencias repetidas en forma compacta.\n",
        "\n",
        "- Cuantización: reduce la precisión de los valores (ej: menos bits por píxel).\n",
        "\n",
        "**✅ Resumen:**\n",
        "\n",
        "La compresión de datos de señal es una técnica de transformación que reduce el tamaño de señales (audio, imágenes, video, sensores) para ahorrar espacio y acelerar el procesamiento. Puede ser:\n",
        "\n",
        "- Sin pérdida: conserva toda la información.\n",
        "\n",
        "- Con pérdida: elimina detalles poco relevantes para el ojo o el oído humano. Se logra mediante métodos como Fourier, Wavelets, cuantización y codificación.\n",
        "\n",
        "---"
      ],
      "metadata": {
        "id": "8bnDVlPq5Die"
      }
    },
    {
      "cell_type": "markdown",
      "source": [
        "## **1.4 Datos para el entrenamiento de modelos**"
      ],
      "metadata": {
        "id": "GABy_NTI6TKN"
      }
    },
    {
      "cell_type": "markdown",
      "source": [
        "Ya teniendo los datos limpios y transformados, ahora se los damos al algoritmo para que aprenda patrones. Dependiendo del tipo de aprendizaje, este proceso cambia:\n",
        "\n",
        "1. **Aprendizaje supervisado**\n",
        "\n",
        "Aquí sí tenemos **etiquetas** (el valor que queremos predecir).\n",
        "\n",
        "* Ejemplos:\n",
        "  * Predecir si un cliente se irá (sí/no).\n",
        "  * Estimar el precio de una casa (número).\n",
        "\n",
        "* **Proceso:**\n",
        "  * 1.- Divides los datos en dos o tres conjuntos:\n",
        "    * Entrenamiento → el modelo aprende.\n",
        "    * Validación (opcional, a veces se usa en validación cruzada).\n",
        "    * Prueba / Evaluación → comprobar que tan bien funciona en datos nuevos.\n",
        "  * 2.- Usas técnicas como validación cruzada ara asegurarte de que el modelo no se \"memorice\" los datos (overfitting).\n",
        "\n",
        "2. **Aprendizaje no supervisado (autoaprendizaje)**\n",
        "\n",
        "Aquí **no hay etiquetas**. El modelo no sabe qué buscar, solo **descubre patrones escondidos en los datos.**\n",
        "\n",
        "* Ejemplos:\n",
        "  * Agrupar clientes por comportamiento (clustering)\n",
        "  * Reducir dimensiones para visualizar datos complejos.\n",
        "\n",
        "No se habla de \"entrenar con etiquetas\", sino de **derivar estructuras o relaciones** entre los datos.\n",
        "\n",
        "**🔹 Ejemplo práctico simple**\n",
        "\n",
        "Supongamos que tenemos datos de clientes con edad, ingresos y si cancelaron o no su suscripción:\n",
        "\n",
        "- Supervisado → usas las columnas (edad, ingresos) para predecir \"canceló = sí/no\".\n",
        "\n",
        "- No supervisado → agrupas clientes en clusters: \"jóvenes de bajos ingresos\", \"adultos con ingresos altos\", etc, sin saber de antemano a qué grupo pertenecen.\n",
        "\n",
        "**✅ Resumen:**\n",
        "\n",
        "Este paso es donde el modelo **aprende**\n",
        "\n",
        "- En **supervisado**, aprende a predecir una respuesta conocida.\n",
        "- En no supervisado, aprende a encontrar patrones que nadie se los diga.\n",
        "\n",
        "---\n",
        "\n",
        "\n"
      ],
      "metadata": {
        "id": "NibPmxaw6XhP"
      }
    },
    {
      "cell_type": "markdown",
      "source": [
        "## **1.5 Evaluación del rendimiento del modelo**"
      ],
      "metadata": {
        "id": "bzsOK9jd93bb"
      }
    },
    {
      "cell_type": "markdown",
      "source": [
        "Un modelo de ML puede aprender demasiado bien los datos de entrenamiento (**overfitting**), pero fallar con datos nuevos.\n",
        "\n",
        "Para evitar esto, se usan **conjuntos de evaluación (test set)** o **validación cruzda**, que ayudan a medir qué tan bien generaliza el modelo.\n",
        "\n",
        "- **Evaluación en aprendizaje supervisado**\n",
        "  * Aquí sí tenemos etiquetas reales, así que podemos medir qué tan cerca está la predicción del modelo.\n",
        "    * Clasificación (ejemplo: \"este correo es spam o no?\")\n",
        "    * Precisión (accuracy), Recll, F1-score, Matriz de confusión, AUC-ROC.\n",
        "    * Regresión (ejemplo: predecir el precio de una casa):\n",
        "      * Error cuadrático medio (MSE), Error absoluto medio (MAE), R².\n",
        "\n",
        "- **Evaluación en aprendizaje no supervisado (autoaprendizaje)**\n",
        "  * Aquí no hay etiquetas, por lo que no se puede medir \"qué tan correcto\" es el resultado.\n",
        "  * En su lugar, se usan:\n",
        "    * **Medidas estadísticas** → varianza explicada, inercia (en clustering)\n",
        "    * **Índices de validación interna** → Silhoutte score (qué tan separados están los clusters).\n",
        "    * **Interpretación de reglas o patrones** → el analista valida si los grupos o asociaciones tienen sentido en el contexto del negocio.\n",
        "\n",
        "**🔹 Ejemplo práctico simple**\n",
        "\n",
        "Supongamos que entrenamos un modelo para predecir si un cliente cancelará la suscripción:\n",
        "\n",
        "- El entrenamiento obtuvo **98% de accuracy**, pero en los datos de prueba bajó a un 70% → el modelo **sobreajustó**.\n",
        "\n",
        "- Si en vez de supervisado, usamos un clustering (no supervisado), evaluaríamos si los grupos formados de clientes realmente diferencian comportamientos útiles (ejemplo: \"jóvenes de bajos ingresos\" vs. \"adultos de ingresos altos\").\n",
        "\n",
        "**✅ Resumen:**\n",
        "\n",
        "La evaluación del modelo es como el examen final:\n",
        "\n",
        "- En supervisado, comparamos predicciones contra la \"respuesta correcta\".\n",
        "\n",
        "- En no supervisado, juzgamos la calidad de los aptrones encontrados con métricas estadísticas o interpretación de negocio.\n",
        "\n",
        "---"
      ],
      "metadata": {
        "id": "S1JEVmwQ-DCp"
      }
    },
    {
      "cell_type": "markdown",
      "source": [
        "## **1.6 Mejorar el rendimiento del modelo y la aplicación al mercado**"
      ],
      "metadata": {
        "id": "W3ifHhbzLprR"
      }
    },
    {
      "cell_type": "markdown",
      "source": [
        "- **El problema no se resuelve en un solo intento**\n",
        "  * La primera versión del modelo rara vez es la mejor.\n",
        "  * Normalmente, los resultados iniciales sirven como **punto de partida**.\n",
        "  * Después comienza un proceso de **iteración y ajuste**.\n",
        "\n",
        "- **Mejorar el rendimiento del modelo**\n",
        "  * **Ajustes de parámetros (Hyperparameter Tuning)**\n",
        "    * Ejemplo: en un árbol de decisión, cambiar la profundidad máxima o el número de hojas.\n",
        "    * Se hace con técnicas como **Grid Search** o **Random Search**\n",
        "  * **Probar otros algoritmos**\n",
        "    * Ejemplo: si una regresión logística no predice bien, probar con un Random Forest o XGBoost.\n",
        "  * **Ingeniería de características (Feauture Engineering)**\n",
        "    * Crear nuevas variables a partir de las existentes.\n",
        "    * Ejemplo: en vez de usar solo la fecha, crear \"día de la semana\", \"es fin de mes\", etc.\n",
        "  * **Más y mejores datos**\n",
        "    * A veces el problema no es el algoritmo, sino los datos.\n",
        "    * Recolectar más ejemplos o datos más limpios puede mejorar mucho el rendimiento.\n",
        "\n",
        "- **Juzgar el rendimiento del modelo**\n",
        "  * No existe un **criterio absoluto** de cuándo un modelo es \"suficientemente bueno\".\n",
        "  * Depende del contexto del negocio:\n",
        "    * En medicina, un 90% de precisión puede ser insuficiente.\n",
        "    * En marketing, un 70% podría ser aceptable si genera valor.\n",
        "\n",
        "- **Aplicar el modelo al mercado**\n",
        "  * Cuando el modelo es **satisfactorio**, se puede:\n",
        "    * Integrar un **sistema de producción** (ejemplo: que la app de un banco use el modelo para detectar fraudes en tiempo real).\n",
        "    * Automatizar procesos (ejemplo: recomendaciones de productos en un e-commerce).\n",
        "    * Hacer un **despliegue piloto** → probar un grupo reducido antes de usarlo masivamente.\n",
        "  \n",
        "  * En alguno casos se necesita desarrollo adicional:\n",
        "    * APIS para que otros sistemas usen el modelo.\n",
        "    * Interfaz de usuario.\n",
        "    * Escalado en la nube para manejar muchos datos en tiempo real.\n",
        "\n",
        "**✅ Resumen:**\n",
        "\n",
        "Este paso es un ciclo de **iterar, comparar, ajustar y mejorar** hasta que el modelo sea útil en el negocio. Luego se **despliega** para resolver el problema real.\n",
        "\n",
        "---"
      ],
      "metadata": {
        "id": "viP1hrq5Lxoh"
      }
    },
    {
      "cell_type": "markdown",
      "source": [
        "##"
      ],
      "metadata": {
        "id": "RjsrMQNH6JqN"
      }
    }
  ]
}