{
  "nbformat": 4,
  "nbformat_minor": 0,
  "metadata": {
    "colab": {
      "provenance": [],
      "authorship_tag": "ABX9TyN51kGtyrRAupBQH69H9Nai",
      "include_colab_link": true
    },
    "kernelspec": {
      "name": "python3",
      "display_name": "Python 3"
    },
    "language_info": {
      "name": "python"
    }
  },
  "cells": [
    {
      "cell_type": "markdown",
      "metadata": {
        "id": "view-in-github",
        "colab_type": "text"
      },
      "source": [
        "<a href=\"https://colab.research.google.com/github/mariavanez/SIC25-ApuntesYClases/blob/main/Unidad%202%3A%20Matem%C3%A1ticas%20para%20Data%20Science/Cap%C3%ADtulo%201/1_Introducci%C3%B3n_Matem%C3%A1ticas.ipynb\" target=\"_parent\"><img src=\"https://colab.research.google.com/assets/colab-badge.svg\" alt=\"Open In Colab\"/></a>"
      ]
    },
    {
      "cell_type": "markdown",
      "source": [
        "# **1. ¿QUÉ ES LA MATEMÁTICA?**\n"
      ],
      "metadata": {
        "id": "a6LxXGPvD_DG"
      }
    },
    {
      "cell_type": "markdown",
      "source": [
        "Es la ciencia que estudia **números, formas, estructuras, cambios y relaciones**.\n",
        "\n",
        "* Busca patrones.\n",
        "* Crea métodos para razonar y resolver problemas.\n",
        "* Se usa en casi todo: desde contar dinero hasta diseñar puentes o programar una app.\n",
        "\n",
        "👉 Una forma sencilla de verla: la matemática es como un **lenguaje universal** para describir el mundo con lógica y precisión.\n",
        "\n",
        "---\n",
        "\n",
        "> ¿Qué es la **aritmética**?\n",
        "\n",
        "Es una rama de la matemática que se enfoca en **los números y las operaciones básicas**:\n",
        "\n",
        "* **Suma (+)**\n",
        "* **Resta (–)**\n",
        "* **Multiplicación (×)**\n",
        "* **División (÷)**\n",
        "\n",
        "Ejemplo: si tienes 5 manzanas y compras 3 más, usas aritmética para saber que ahora tienes 8.\n",
        "\n",
        "---\n",
        "\n",
        "> ¿Qué es la **geometría**?\n",
        "\n",
        "Es otra rama de la matemática, pero en lugar de números se centra en **las formas y el espacio**.\n",
        "\n",
        "* Estudia puntos, líneas, figuras planas (como triángulos y círculos) y cuerpos sólidos (como cubos o esferas).\n",
        "* Responde preguntas como: ¿cuál es el área de un terreno?, ¿cuánto mide la diagonal de un cuadrado?, ¿qué forma es más estable para construir?\n",
        "\n",
        "Ejemplo: cuando mides el perímetro de un cuadrado de 2 metros de lado, estás usando geometría.\n",
        "\n",
        "---\n"
      ],
      "metadata": {
        "id": "7HeF8qJUEGe3"
      }
    },
    {
      "cell_type": "markdown",
      "source": [
        "# **2. TIPOS DE NÚMEROS**\n"
      ],
      "metadata": {
        "id": "VM_wL2cLEcx_"
      }
    },
    {
      "cell_type": "markdown",
      "source": [
        "## 1. **Números naturales (ℕ)**\n",
        "\n",
        "* Son los que usamos para **contar**: 1, 2, 3, 4, …\n",
        "* Algunos incluyen el 0, otros no (depende de la convención).\n",
        "  👉 Ejemplo: “Tengo 3 lápices.”\n",
        "\n",
        "---\n",
        "\n",
        "## 2. **Números enteros (ℤ)**\n",
        "\n",
        "* Incluyen a los naturales **más el 0 y los negativos**:\n",
        "  …, –3, –2, –1, 0, 1, 2, 3, …\n",
        "  👉 Ejemplo: una deuda de –5 dólares.\n",
        "\n",
        "---\n",
        "\n",
        "## 3. **Números racionales (ℚ)**\n",
        "\n",
        "* Son las **fracciones o cocientes** de enteros:\n",
        "  $\\tfrac{1}{2}, \\; \\tfrac{-3}{4}, \\; 5 $ (porque 5 = 5/1).\n",
        "* Tienen representación decimal **exacta o periódica** (ej: 0,25 o 0,333…).\n",
        "\n",
        "---\n",
        "\n",
        "## 4. **Números irracionales**\n",
        "\n",
        "* No pueden escribirse como fracción exacta.\n",
        "* Su decimal es **infinito y no periódico**.\n",
        "  👉 Ejemplo: $\\pi \\approx 3,14159...$, $\\sqrt{2} \\approx 1,4142...$.\n",
        "\n",
        "---\n",
        "\n",
        "## 5. **Números reales (ℝ)**\n",
        "\n",
        "* Son la “gran bolsa” que contiene **racionales + irracionales**.\n",
        "  👉 Representan cualquier punto en la recta numérica.\n",
        "\n",
        "---\n",
        "\n",
        "## 6. **Números complejos (ℂ)**\n",
        "\n",
        "* Incluyen los reales y también los que tienen la unidad imaginaria $i$, donde $i^2 = -1$.\n",
        "  👉 Ejemplo: $3 + 2i$.\n",
        "  Se usan mucho en ingeniería, física y computación.\n",
        "\n",
        "---\n",
        "\n",
        "Para que no quede en abstracto:\n",
        "\n",
        "Si alguien te dice que **tiene –3 dólares** (enteros), que va a **repartir medio pastel** (racionales), que mide la diagonal de un cuadrado (irracional), o que analiza una señal eléctrica (complejos)… ¡todos esos son números, pero de distintos tipos!\n",
        "\n",
        "---\n"
      ],
      "metadata": {
        "id": "cx_8nZ27E1z1"
      }
    },
    {
      "cell_type": "markdown",
      "source": [
        "# **3. SÍMBOLOS MATEMÁTICOS**"
      ],
      "metadata": {
        "id": "6snhD5QqGDuO"
      }
    },
    {
      "cell_type": "markdown",
      "source": [
        "---\n",
        "\n",
        "## 📊 Letras griegas (mayúsculas y minúsculas)\n",
        "\n",
        "| Nombre      | Mayúscula | Minúscula | Uso común en matemáticas/ciencias                             |\n",
        "| ----------- | --------- | --------- | ------------------------------------------------------------- |\n",
        "| **Alfa**    | Α         | α         | Ángulos en trigonometría; coeficientes.                       |\n",
        "| **Beta**    | Β         | β         | Probabilidad, coeficientes, partículas β.                     |\n",
        "| **Gamma**   | Γ         | γ         | Función Gamma; ángulos; radiación γ.                          |\n",
        "| **Delta**   | Δ         | δ         | Δ = cambio o diferencia; δ = variación pequeña.               |\n",
        "| **Épsilon** | Ε         | ε         | En cálculo: un número muy pequeño (ε > 0).                    |\n",
        "| **Zeta**    | Ζ         | ζ         | Función zeta de Riemann; coordenadas.                         |\n",
        "| **Eta**     | Η         | η         | Eficiencia en física; números complejos.                      |\n",
        "| **Theta**   | Θ         | θ         | Ángulos en trigonometría; notación Θ en análisis algorítmico. |\n",
        "\n",
        "---\n",
        "\n",
        "## 📊 Letras griegas (segunda parte)\n",
        "\n",
        "| Nombre                                                     | Mayúscula | Minúscula | Uso común en matemáticas/ciencias                                                 |\n",
        "| ---------------------------------------------------------- | --------- | --------- | --------------------------------------------------------------------------------- |\n",
        "| **Iota**                                      | Ι         | ι         | En matemáticas casi no se usa; en física puede representar densidad de corriente. |\n",
        "| **Kappa**                                                  | Κ         | κ         | Constantes, conductividad térmica, curvatura.                                     |\n",
        "| **Lambda**                                                 | Λ         | λ         | Valores propios (álgebra lineal), longitudes de onda.                             |\n",
        "| **Mu**                                                     | Μ         | μ         | Media (estadística), coeficiente de fricción, micro (10⁻⁶).                       |\n",
        "| **Nu**                                          | Ν         | ν         | Frecuencia (física), partículas ν (neutrinos).                                    |\n",
        "| **Xi**                                                     | Ξ         | ξ         | Variables en álgebra y probabilidad.                                              |\n",
        "| **Omikron**                                                | Ο         | ο         | Poco usado; a veces en series infinitas.                                          |\n",
        "| **Pi** | Π         | π         | Π = producto, π ≈ 3.14159… (relación entre circunferencia y diámetro).            |\n",
        "\n",
        "---\n",
        "\n",
        "👉 Observa: algunas letras griegas son **muy usadas** (λ, μ, π, θ), y otras casi no aparecen en matemáticas básicas (ι, ο).\n",
        "\n",
        "---\n",
        "\n",
        "## 📊 Letras griegas (parte final)\n",
        "\n",
        "| Nombre       | Mayúscula | Minúscula | Uso común en matemáticas/ciencias                                                      |\n",
        "| ------------ | --------- | --------- | -------------------------------------------------------------------------------------- |\n",
        "| **Rho**      | Ρ         | ρ         | Densidad (física), radios, resistividad.                                               |\n",
        "| **Sigma**    | Σ         | σ         | Σ = sumatoria; σ = desviación estándar, tensión.                                       |\n",
        "| **Tau**      | Τ         | τ         | Constantes de tiempo, el número τ = 2π.                                                |\n",
        "| **Upsilon**  | Υ         | υ         | Partículas Υ en física; poco en matemáticas básicas.                                   |\n",
        "| **Fi (Phi)** | Φ         | φ (o ϕ)   | Ángulos, función φ(n) de Euler, número áureo.                                          |\n",
        "| **Chi**      | Χ         | χ         | Pruebas χ² en estadística, caracteres en álgebra.                                      |\n",
        "| **Psi**      | Ψ         | ψ         | Función de onda en mecánica cuántica.                                                  |\n",
        "| **Omega**    | Ω         | ω         | Ω = ohmios (resistencia); ω = frecuencia angular; “conjunto universal” en matemáticas. |\n",
        "\n",
        "---\n",
        "\n",
        "\n"
      ],
      "metadata": {
        "id": "YXvCakSMGK0M"
      }
    },
    {
      "cell_type": "code",
      "execution_count": null,
      "metadata": {
        "id": "lEBCBP7SD7Sd"
      },
      "outputs": [],
      "source": []
    }
  ]
}